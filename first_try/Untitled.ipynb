{
 "cells": [
  {
   "cell_type": "code",
   "execution_count": 10,
   "id": "103c864f-2966-4a15-a801-ca339524f629",
   "metadata": {},
   "outputs": [],
   "source": [
    "import yfinance as yf\n",
    "import numpy as np\n",
    "\n",
    "import matplotlib.pyplot as plt"
   ]
  },
  {
   "cell_type": "code",
   "execution_count": 11,
   "id": "26d05d34-9315-46b6-9491-70d6a76a5d6e",
   "metadata": {},
   "outputs": [
    {
     "name": "stdout",
     "output_type": "stream",
     "text": [
      "[*********************100%***********************]  2 of 2 completed\n"
     ]
    }
   ],
   "source": [
    "# Using the yfinance API, get data for SPY and AAPL.\n",
    "\n",
    "data = yf.download([\"SPY\", \"AAPL\"], start=\"2019-01-01\", end=\"2022-12-31\")\n"
   ]
  },
  {
   "cell_type": "code",
   "execution_count": 12,
   "id": "4f2ffc3f-851d-4f77-a2bb-b2b5a535ad23",
   "metadata": {},
   "outputs": [],
   "source": [
    "closes = data['Adj Close']\n",
    "spy_returns = closes.SPY.pct_change().dropna()\n",
    "aapl_returns = closes.AAPL.pct_change().dropna()"
   ]
  },
  {
   "cell_type": "code",
   "execution_count": 13,
   "id": "f9385e9e-2c1c-4443-b6d6-52ab3c2157ad",
   "metadata": {},
   "outputs": [],
   "source": [
    "# Compute the Sortino Ratio\n",
    "\n",
    "def sortino_ratio(returns, adjustment_factor=0.0):\n",
    "    \"\"\"\n",
    "    Determines the Sortino ratio of a strategy.\n",
    "    \n",
    "    Parameters\n",
    "    ----------\n",
    "    returns : pd.Series or np.ndarray\n",
    "        Daily returns of the strategy, noncumulative.\n",
    "        adjustment_factor : int, float\n",
    "        Constant daily benchmark return throughout the period.\n",
    "\n",
    "    Returns\n",
    "    -------\n",
    "    sortino_ratio : float\n",
    "\n",
    "    Note\n",
    "    -----\n",
    "    See `<https://www.sunrisecapital.com/wp-content/uploads/2014/06/Futures_\n",
    "    Mag_Sortino_0213.pdf>`__ for more details.\n",
    "    \"\"\"\n",
    "    \n",
    "    # compute annualized return\n",
    "    returns_risk_adj = np.asanyarray(returns - adjustment_factor)\n",
    "    mean_annual_return = returns_risk_adj.mean() * 252\n",
    "\n",
    "    # compute the downside deviation\n",
    "    downside_diff = np.clip(returns_risk_adj, np.NINF, 0)\n",
    "    np.square(downside_diff, out=downside_diff)\n",
    "    annualized_downside_deviation = np.sqrt(downside_diff.mean()) * np.sqrt(252)\n",
    "    \n",
    "    return mean_annual_return / annualized_downside_deviation"
   ]
  },
  {
   "cell_type": "code",
   "execution_count": null,
   "id": "e6f2ae0d-8916-4953-a000-f1087df0edf1",
   "metadata": {},
   "outputs": [],
   "source": []
  },
  {
   "cell_type": "code",
   "execution_count": 14,
   "id": "c62b119e-3b0a-4bb1-9de3-5e5b51745428",
   "metadata": {},
   "outputs": [
    {
     "name": "stdout",
     "output_type": "stream",
     "text": [
      "Sortino Rato, SPY returns\n"
     ]
    },
    {
     "data": {
      "text/plain": [
       "0.9136714282209755"
      ]
     },
     "metadata": {},
     "output_type": "display_data"
    },
    {
     "name": "stdout",
     "output_type": "stream",
     "text": [
      "\n",
      "Sortino Ratio, AAPL returns\n"
     ]
    },
    {
     "data": {
      "text/plain": [
       "1.5622222559522687"
      ]
     },
     "metadata": {},
     "output_type": "display_data"
    }
   ],
   "source": [
    "# Compute the Sortino ratio for AAPL and SPY.\n",
    "\n",
    "# sortino ratio for SPY\n",
    "print(\"Sortino Rato, SPY returns\")\n",
    "display(sortino_ratio(spy_returns))\n",
    "print()\n",
    "print(\"Sortino Ratio, AAPL returns\")\n",
    "# sortino ratio for AAPL\n",
    "display(sortino_ratio(aapl_returns))"
   ]
  },
  {
   "cell_type": "code",
   "execution_count": null,
   "id": "b2bbe54f-9ae7-4921-ba17-088926cad528",
   "metadata": {},
   "outputs": [],
   "source": []
  }
 ],
 "metadata": {
  "kernelspec": {
   "display_name": "Python 3 (ipykernel)",
   "language": "python",
   "name": "python3"
  },
  "language_info": {
   "codemirror_mode": {
    "name": "ipython",
    "version": 3
   },
   "file_extension": ".py",
   "mimetype": "text/x-python",
   "name": "python",
   "nbconvert_exporter": "python",
   "pygments_lexer": "ipython3",
   "version": "3.9.13"
  }
 },
 "nbformat": 4,
 "nbformat_minor": 5
}
