{
 "cells": [
  {
   "cell_type": "code",
   "execution_count": 51,
   "id": "7a8b77fa-532a-4506-9659-30cf7c85287d",
   "metadata": {},
   "outputs": [],
   "source": [
    "# Initial imports:\n",
    "import pandas as pd\n",
    "import numpy as np\n",
    "from pathlib import Path\n",
    "%matplotlib inline\n",
    "from matplotlib import pyplot as plt\n",
    "\n",
    "#new library we have not used before \n",
    "import datetime as dt"
   ]
  },
  {
   "cell_type": "code",
   "execution_count": 53,
   "id": "f6c3f33f-c139-4eb2-b08d-13f482b54e53",
   "metadata": {},
   "outputs": [
    {
     "data": {
      "text/html": [
       "<div>\n",
       "<style scoped>\n",
       "    .dataframe tbody tr th:only-of-type {\n",
       "        vertical-align: middle;\n",
       "    }\n",
       "\n",
       "    .dataframe tbody tr th {\n",
       "        vertical-align: top;\n",
       "    }\n",
       "\n",
       "    .dataframe thead th {\n",
       "        text-align: right;\n",
       "    }\n",
       "</style>\n",
       "<table border=\"1\" class=\"dataframe\">\n",
       "  <thead>\n",
       "    <tr style=\"text-align: right;\">\n",
       "      <th></th>\n",
       "      <th>Price</th>\n",
       "    </tr>\n",
       "    <tr>\n",
       "      <th>Date</th>\n",
       "      <th></th>\n",
       "    </tr>\n",
       "  </thead>\n",
       "  <tbody>\n",
       "    <tr>\n",
       "      <th>2014-01-02</th>\n",
       "      <td>773.44</td>\n",
       "    </tr>\n",
       "    <tr>\n",
       "      <th>2014-01-03</th>\n",
       "      <td>802.85</td>\n",
       "    </tr>\n",
       "    <tr>\n",
       "      <th>2014-01-04</th>\n",
       "      <td>823.27</td>\n",
       "    </tr>\n",
       "    <tr>\n",
       "      <th>2014-01-05</th>\n",
       "      <td>858.55</td>\n",
       "    </tr>\n",
       "    <tr>\n",
       "      <th>2014-01-06</th>\n",
       "      <td>936.05</td>\n",
       "    </tr>\n",
       "  </tbody>\n",
       "</table>\n",
       "</div>"
      ],
      "text/plain": [
       "             Price\n",
       "Date              \n",
       "2014-01-02  773.44\n",
       "2014-01-03  802.85\n",
       "2014-01-04  823.27\n",
       "2014-01-05  858.55\n",
       "2014-01-06  936.05"
      ]
     },
     "execution_count": 53,
     "metadata": {},
     "output_type": "execute_result"
    }
   ],
   "source": [
    "# Read-in returns dataframe and set index as \"Date\":\n",
    "bitcoin_history_csv = Path(\"./CSV/bitcoin_history.csv\")\n",
    "bitcoin_history_df = pd.read_csv(bitcoin_history_csv, index_col=\"Date\", parse_dates=True, infer_datetime_format=True)\n",
    "\n",
    "# Sort index in ascending order:\n",
    "bitcoin_history_df.sort_index(inplace=True)\n",
    "\n",
    "# Display first five rows:\n",
    "bitcoin_history_df.head()\n",
    "\n",
    "\n"
   ]
  },
  {
   "cell_type": "code",
   "execution_count": 85,
   "id": "13e708e3-1940-4f9e-b476-9ce2c50d9f24",
   "metadata": {},
   "outputs": [
    {
     "data": {
      "text/html": [
       "<div>\n",
       "<style scoped>\n",
       "    .dataframe tbody tr th:only-of-type {\n",
       "        vertical-align: middle;\n",
       "    }\n",
       "\n",
       "    .dataframe tbody tr th {\n",
       "        vertical-align: top;\n",
       "    }\n",
       "\n",
       "    .dataframe thead th {\n",
       "        text-align: right;\n",
       "    }\n",
       "</style>\n",
       "<table border=\"1\" class=\"dataframe\">\n",
       "  <thead>\n",
       "    <tr style=\"text-align: right;\">\n",
       "      <th></th>\n",
       "      <th>Bitcoin Daily Returns</th>\n",
       "    </tr>\n",
       "    <tr>\n",
       "      <th>Date</th>\n",
       "      <th></th>\n",
       "    </tr>\n",
       "  </thead>\n",
       "  <tbody>\n",
       "    <tr>\n",
       "      <th>2014-01-02</th>\n",
       "      <td>nan%</td>\n",
       "    </tr>\n",
       "    <tr>\n",
       "      <th>2014-01-03</th>\n",
       "      <td>3.80%</td>\n",
       "    </tr>\n",
       "    <tr>\n",
       "      <th>2014-01-04</th>\n",
       "      <td>2.54%</td>\n",
       "    </tr>\n",
       "    <tr>\n",
       "      <th>2014-01-05</th>\n",
       "      <td>4.29%</td>\n",
       "    </tr>\n",
       "    <tr>\n",
       "      <th>2014-01-06</th>\n",
       "      <td>9.03%</td>\n",
       "    </tr>\n",
       "  </tbody>\n",
       "</table>\n",
       "</div>"
      ],
      "text/plain": [
       "           Bitcoin Daily Returns\n",
       "Date                            \n",
       "2014-01-02                  nan%\n",
       "2014-01-03                 3.80%\n",
       "2014-01-04                 2.54%\n",
       "2014-01-05                 4.29%\n",
       "2014-01-06                 9.03%"
      ]
     },
     "execution_count": 85,
     "metadata": {},
     "output_type": "execute_result"
    }
   ],
   "source": [
    "# Calculate S&P 500 daily returns using .pct_change() function:\n",
    "bitcoin_returns = bitcoin_history_df.pct_change()\n",
    "bitcoin_returns = bitcoin_returns.applymap(lambda x: \"{:.2%}\".format(x))\n",
    "\n",
    "# Rename column:\n",
    "bitcoin_returns.columns = [\"Bitcoin Daily Returns\"]\n",
    "\n",
    "# Drop nulls:\n",
    "bitcoin_returns.dropna(inplace=True)\n",
    "\n",
    "# Preview DataFrame\n",
    "bitcoin_returns.head()"
   ]
  },
  {
   "cell_type": "code",
   "execution_count": 87,
   "id": "681ad8cc-37b2-47b9-9032-da292c178f4e",
   "metadata": {},
   "outputs": [
    {
     "data": {
      "text/html": [
       "<div>\n",
       "<style scoped>\n",
       "    .dataframe tbody tr th:only-of-type {\n",
       "        vertical-align: middle;\n",
       "    }\n",
       "\n",
       "    .dataframe tbody tr th {\n",
       "        vertical-align: top;\n",
       "    }\n",
       "\n",
       "    .dataframe thead th {\n",
       "        text-align: right;\n",
       "    }\n",
       "</style>\n",
       "<table border=\"1\" class=\"dataframe\">\n",
       "  <thead>\n",
       "    <tr style=\"text-align: right;\">\n",
       "      <th></th>\n",
       "      <th>Price</th>\n",
       "    </tr>\n",
       "    <tr>\n",
       "      <th>Date</th>\n",
       "      <th></th>\n",
       "    </tr>\n",
       "  </thead>\n",
       "  <tbody>\n",
       "    <tr>\n",
       "      <th>2020-01-01</th>\n",
       "      <td>3234.35</td>\n",
       "    </tr>\n",
       "    <tr>\n",
       "      <th>2020-01-02</th>\n",
       "      <td>3231.56</td>\n",
       "    </tr>\n",
       "    <tr>\n",
       "      <th>2020-01-03</th>\n",
       "      <td>3242.41</td>\n",
       "    </tr>\n",
       "    <tr>\n",
       "      <th>2020-01-06</th>\n",
       "      <td>3238.21</td>\n",
       "    </tr>\n",
       "    <tr>\n",
       "      <th>2020-01-07</th>\n",
       "      <td>3243.80</td>\n",
       "    </tr>\n",
       "  </tbody>\n",
       "</table>\n",
       "</div>"
      ],
      "text/plain": [
       "              Price\n",
       "Date               \n",
       "2020-01-01  3234.35\n",
       "2020-01-02  3231.56\n",
       "2020-01-03  3242.41\n",
       "2020-01-06  3238.21\n",
       "2020-01-07  3243.80"
      ]
     },
     "execution_count": 87,
     "metadata": {},
     "output_type": "execute_result"
    }
   ],
   "source": [
    "# Read S&P500 returns and set index as \"Date\"\n",
    "sp500_history_csv = Path(\"./CSV/sp500_history.csv\")\n",
    "sp500_history_df = pd.read_csv(sp500_history_csv, index_col=\"Date\", parse_dates=True, infer_datetime_format=True)\n",
    "\n",
    "#removes weekday\n",
    "columns_to_drop = [col for col in sp500_history_df.columns if \"Weekday\" in col]\n",
    "sp500_history_df.drop(columns=columns_to_drop, inplace=True)\n",
    "\n",
    "# Sort index in ascending order:\n",
    "sp500_history_df.sort_index(inplace=True)\n",
    "\n",
    "# Preview DataFrame:\n",
    "sp500_history_df.head()"
   ]
  },
  {
   "cell_type": "code",
   "execution_count": 89,
   "id": "0b4b0b97-96a4-416a-a8f3-df250afba867",
   "metadata": {},
   "outputs": [
    {
     "data": {
      "text/plain": [
       "Price    float64\n",
       "dtype: object"
      ]
     },
     "execution_count": 89,
     "metadata": {},
     "output_type": "execute_result"
    }
   ],
   "source": [
    "# Remove \"$\" from values in \"Close\" column and convert data type from \"object\" to \"float\":\n",
    "sp500_history_df[\"Price\"] = sp500_history_df[\"Price\"].replace(\"$\", \"\").astype(\"float\")\n",
    "\n",
    "# Confirm data type conversion:\n",
    "sp500_history_df.dtypes"
   ]
  },
  {
   "cell_type": "code",
   "execution_count": 90,
   "id": "29d96d5e-e5c8-4d6a-ba18-851d6d8fd0d9",
   "metadata": {},
   "outputs": [
    {
     "data": {
      "text/html": [
       "<div>\n",
       "<style scoped>\n",
       "    .dataframe tbody tr th:only-of-type {\n",
       "        vertical-align: middle;\n",
       "    }\n",
       "\n",
       "    .dataframe tbody tr th {\n",
       "        vertical-align: top;\n",
       "    }\n",
       "\n",
       "    .dataframe thead th {\n",
       "        text-align: right;\n",
       "    }\n",
       "</style>\n",
       "<table border=\"1\" class=\"dataframe\">\n",
       "  <thead>\n",
       "    <tr style=\"text-align: right;\">\n",
       "      <th></th>\n",
       "      <th>S&amp;P 500 Daily Returns</th>\n",
       "    </tr>\n",
       "    <tr>\n",
       "      <th>Date</th>\n",
       "      <th></th>\n",
       "    </tr>\n",
       "  </thead>\n",
       "  <tbody>\n",
       "    <tr>\n",
       "      <th>2020-01-01</th>\n",
       "      <td>nan%</td>\n",
       "    </tr>\n",
       "    <tr>\n",
       "      <th>2020-01-02</th>\n",
       "      <td>-0.09%</td>\n",
       "    </tr>\n",
       "    <tr>\n",
       "      <th>2020-01-03</th>\n",
       "      <td>0.34%</td>\n",
       "    </tr>\n",
       "    <tr>\n",
       "      <th>2020-01-06</th>\n",
       "      <td>-0.13%</td>\n",
       "    </tr>\n",
       "    <tr>\n",
       "      <th>2020-01-07</th>\n",
       "      <td>0.17%</td>\n",
       "    </tr>\n",
       "  </tbody>\n",
       "</table>\n",
       "</div>"
      ],
      "text/plain": [
       "           S&P 500 Daily Returns\n",
       "Date                            \n",
       "2020-01-01                  nan%\n",
       "2020-01-02                -0.09%\n",
       "2020-01-03                 0.34%\n",
       "2020-01-06                -0.13%\n",
       "2020-01-07                 0.17%"
      ]
     },
     "execution_count": 90,
     "metadata": {},
     "output_type": "execute_result"
    }
   ],
   "source": [
    "# Calculate S&P 500 daily returns using .pct_change() function:\n",
    "sp500_daily_returns = sp500_history_df.pct_change()\n",
    "sp500_daily_returns = sp500_daily_returns.applymap(lambda x: \"{:.2%}\".format(x))\n",
    "\n",
    "\n",
    "# Rename column:\n",
    "sp500_daily_returns.columns = [\"S&P 500 Daily Returns\"]\n",
    "\n",
    "# Drop nulls:\n",
    "sp500_daily_returns.dropna(inplace=True)\n",
    "\n",
    "# Preview DataFrame\n",
    "sp500_daily_returns.head()\n",
    "\n"
   ]
  },
  {
   "cell_type": "code",
   "execution_count": 91,
   "id": "75fa6cf4-56a8-4b6b-85f2-c6fa7e2cdf84",
   "metadata": {},
   "outputs": [
    {
     "data": {
      "text/html": [
       "<div>\n",
       "<style scoped>\n",
       "    .dataframe tbody tr th:only-of-type {\n",
       "        vertical-align: middle;\n",
       "    }\n",
       "\n",
       "    .dataframe tbody tr th {\n",
       "        vertical-align: top;\n",
       "    }\n",
       "\n",
       "    .dataframe thead th {\n",
       "        text-align: right;\n",
       "    }\n",
       "</style>\n",
       "<table border=\"1\" class=\"dataframe\">\n",
       "  <thead>\n",
       "    <tr style=\"text-align: right;\">\n",
       "      <th></th>\n",
       "      <th>Price</th>\n",
       "      <th>S&amp;P 500 Daily Returns</th>\n",
       "    </tr>\n",
       "    <tr>\n",
       "      <th>Date</th>\n",
       "      <th></th>\n",
       "      <th></th>\n",
       "    </tr>\n",
       "  </thead>\n",
       "  <tbody>\n",
       "  </tbody>\n",
       "</table>\n",
       "</div>"
      ],
      "text/plain": [
       "Empty DataFrame\n",
       "Columns: [Price, S&P 500 Daily Returns]\n",
       "Index: []"
      ]
     },
     "execution_count": 91,
     "metadata": {},
     "output_type": "execute_result"
    }
   ],
   "source": [
    "# Concatenate all dataframes into a single dataframe:\n",
    "daily_returns_df = pd.concat([bitcoin_history_df, sp500_daily_returns], axis='columns', join='inner')\n",
    "daily_returns_df.head()"
   ]
  },
  {
   "cell_type": "code",
   "execution_count": 92,
   "id": "2e470375-d6cb-4214-abef-254865b768c7",
   "metadata": {},
   "outputs": [
    {
     "data": {
      "image/png": "[encoded data removed]",
      "text/plain": [
       "<Figure size 2000x1000 with 1 Axes>"
      ]
     },
     "metadata": {},
     "output_type": "display_data"
    }
   ],
   "source": [
    "# Plot Daily Returns:\n",
    "daily_returns_df.plot(figsize=(20,10), title=\"Daily Returns\")\n",
    "plt.margins(x=0)"
   ]
  },
  {
   "cell_type": "code",
   "execution_count": 93,
   "id": "dfd902f2-cfb0-4ba5-8498-f373434cab41",
   "metadata": {},
   "outputs": [
    {
     "data": {
      "image/png": "[encoded data removed]",
      "text/plain": [
       "<Figure size 2000x1000 with 1 Axes>"
      ]
     },
     "metadata": {},
     "output_type": "display_data"
    }
   ],
   "source": [
    "# Plot Cumulative Returns:\n",
    "cumulative_returns = (1 + daily_returns_df).cumprod()\n",
    "cumulative_returns.plot(figsize = (20,10), title=\"Cumulative Returns\")\n",
    "plt.margins(x=0)"
   ]
  },
  {
   "cell_type": "code",
   "execution_count": 94,
   "id": "8e6a081a-61ba-4658-9e9c-e0c5934975c3",
   "metadata": {},
   "outputs": [
    {
     "data": {
      "text/plain": [
       "<AxesSubplot:title={'center':'Portfolio Risk'}>"
      ]
     },
     "execution_count": 94,
     "metadata": {},
     "output_type": "execute_result"
    },
    {
     "data": {
      "image/png": "[encoded data removed]",
      "text/plain": [
       "<Figure size 2000x1000 with 1 Axes>"
      ]
     },
     "metadata": {},
     "output_type": "display_data"
    }
   ],
   "source": [
    "\n",
    "# Box plot to visually show risk:\n",
    "daily_returns_df.plot(kind = \"box\", figsize = (20,10), title=\"Portfolio Risk\")\n",
    "\n"
   ]
  },
  {
   "cell_type": "code",
   "execution_count": 95,
   "id": "796ae67d-444e-4be6-a0f2-df0fa50a5f90",
   "metadata": {},
   "outputs": [
    {
     "data": {
      "text/html": [
       "<div>\n",
       "<style scoped>\n",
       "    .dataframe tbody tr th:only-of-type {\n",
       "        vertical-align: middle;\n",
       "    }\n",
       "\n",
       "    .dataframe tbody tr th {\n",
       "        vertical-align: top;\n",
       "    }\n",
       "\n",
       "    .dataframe thead th {\n",
       "        text-align: right;\n",
       "    }\n",
       "</style>\n",
       "<table border=\"1\" class=\"dataframe\">\n",
       "  <thead>\n",
       "    <tr style=\"text-align: right;\">\n",
       "      <th></th>\n",
       "      <th>Standard Deviation</th>\n",
       "    </tr>\n",
       "  </thead>\n",
       "  <tbody>\n",
       "    <tr>\n",
       "      <th>Price</th>\n",
       "      <td>NaN</td>\n",
       "    </tr>\n",
       "    <tr>\n",
       "      <th>S&amp;P 500 Daily Returns</th>\n",
       "      <td>NaN</td>\n",
       "    </tr>\n",
       "  </tbody>\n",
       "</table>\n",
       "</div>"
      ],
      "text/plain": [
       "                      Standard Deviation\n",
       "Price                                NaN\n",
       "S&P 500 Daily Returns                NaN"
      ]
     },
     "execution_count": 95,
     "metadata": {},
     "output_type": "execute_result"
    }
   ],
   "source": [
    "# Calculate the standard deviation for each portfolio:\n",
    "daily_std_df = pd.DataFrame(daily_returns_df.std()).rename(columns = {0:\"Standard Deviation\"})\n",
    "daily_std_df\n",
    "\n"
   ]
  },
  {
   "cell_type": "code",
   "execution_count": 96,
   "id": "7a50629d-9047-4c6c-8743-da957f9fe6c3",
   "metadata": {},
   "outputs": [
    {
     "data": {
      "text/html": [
       "<div>\n",
       "<style scoped>\n",
       "    .dataframe tbody tr th:only-of-type {\n",
       "        vertical-align: middle;\n",
       "    }\n",
       "\n",
       "    .dataframe tbody tr th {\n",
       "        vertical-align: top;\n",
       "    }\n",
       "\n",
       "    .dataframe thead th {\n",
       "        text-align: right;\n",
       "    }\n",
       "</style>\n",
       "<table border=\"1\" class=\"dataframe\">\n",
       "  <thead>\n",
       "    <tr style=\"text-align: right;\">\n",
       "      <th></th>\n",
       "      <th>Standard Deviation</th>\n",
       "    </tr>\n",
       "  </thead>\n",
       "  <tbody>\n",
       "  </tbody>\n",
       "</table>\n",
       "</div>"
      ],
      "text/plain": [
       "Empty DataFrame\n",
       "Columns: [Standard Deviation]\n",
       "Index: []"
      ]
     },
     "execution_count": 96,
     "metadata": {},
     "output_type": "execute_result"
    }
   ],
   "source": [
    "# Determine which portfolios are riskier than the S&P 500:\n",
    "higher_std = daily_std_df[daily_std_df[\"Standard Deviation\"] > daily_std_df.loc[\"S&P 500 Daily Returns\", \"Standard Deviation\"]]\n",
    "higher_std\n",
    "\n"
   ]
  },
  {
   "cell_type": "code",
   "execution_count": 97,
   "id": "3e4f75e2-5dec-4dde-af69-4ef8bd1bb21e",
   "metadata": {},
   "outputs": [
    {
     "data": {
      "text/html": [
       "<div>\n",
       "<style scoped>\n",
       "    .dataframe tbody tr th:only-of-type {\n",
       "        vertical-align: middle;\n",
       "    }\n",
       "\n",
       "    .dataframe tbody tr th {\n",
       "        vertical-align: top;\n",
       "    }\n",
       "\n",
       "    .dataframe thead th {\n",
       "        text-align: right;\n",
       "    }\n",
       "</style>\n",
       "<table border=\"1\" class=\"dataframe\">\n",
       "  <thead>\n",
       "    <tr style=\"text-align: right;\">\n",
       "      <th></th>\n",
       "      <th>Annualized Standard Deviation</th>\n",
       "    </tr>\n",
       "  </thead>\n",
       "  <tbody>\n",
       "    <tr>\n",
       "      <th>Price</th>\n",
       "      <td>NaN</td>\n",
       "    </tr>\n",
       "    <tr>\n",
       "      <th>S&amp;P 500 Daily Returns</th>\n",
       "      <td>NaN</td>\n",
       "    </tr>\n",
       "  </tbody>\n",
       "</table>\n",
       "</div>"
      ],
      "text/plain": [
       "                      Annualized Standard Deviation\n",
       "Price                                           NaN\n",
       "S&P 500 Daily Returns                           NaN"
      ]
     },
     "execution_count": 97,
     "metadata": {},
     "output_type": "execute_result"
    }
   ],
   "source": [
    "# Calculate the annualized standard deviation (252 trading days):\n",
    "annualized_std_df = daily_std_df * np.sqrt(252)\n",
    "\n",
    "# Rename \"Standard Deviation\" column to \"Annualized Standard_Deviation\"\n",
    "annualized_std_df.columns = [\"Annualized Standard Deviation\"]\n",
    "\n",
    "# Make new dataframe with sorted data: \n",
    "annualized_std_df_sorted = annualized_std_df.sort_values(\"Annualized Standard Deviation\", ascending=False)\n",
    "annualized_std_df_sorted"
   ]
  },
  {
   "cell_type": "code",
   "execution_count": 98,
   "id": "4ded4b38-1adf-49e5-bf8c-9a8dbe3fd313",
   "metadata": {},
   "outputs": [
    {
     "data": {
      "image/png": "[encoded data removed]",
      "text/plain": [
       "<Figure size 2000x1000 with 1 Axes>"
      ]
     },
     "metadata": {},
     "output_type": "display_data"
    }
   ],
   "source": [
    "#rolling standard deviations, 21-day trading window:\n",
    "sp500_rolling_std = daily_returns_df.rolling(window=21).std()\n",
    "sp500_rolling_std.plot(figsize = (20,10), title=\"21-Day Rolling Standard Deviations\")\n",
    "plt.margins(x=0)\n",
    "\n"
   ]
  },
  {
   "cell_type": "code",
   "execution_count": 99,
   "id": "b82b3161-d14e-4a83-abf9-1047b952e506",
   "metadata": {},
   "outputs": [
    {
     "data": {
      "text/html": [
       "<div>\n",
       "<style scoped>\n",
       "    .dataframe tbody tr th:only-of-type {\n",
       "        vertical-align: middle;\n",
       "    }\n",
       "\n",
       "    .dataframe tbody tr th {\n",
       "        vertical-align: top;\n",
       "    }\n",
       "\n",
       "    .dataframe thead th {\n",
       "        text-align: right;\n",
       "    }\n",
       "</style>\n",
       "<table border=\"1\" class=\"dataframe\">\n",
       "  <thead>\n",
       "    <tr style=\"text-align: right;\">\n",
       "      <th></th>\n",
       "      <th>Price</th>\n",
       "    </tr>\n",
       "  </thead>\n",
       "  <tbody>\n",
       "    <tr>\n",
       "      <th>Price</th>\n",
       "      <td>NaN</td>\n",
       "    </tr>\n",
       "  </tbody>\n",
       "</table>\n",
       "</div>"
      ],
      "text/plain": [
       "       Price\n",
       "Price    NaN"
      ]
     },
     "execution_count": 99,
     "metadata": {},
     "output_type": "execute_result"
    }
   ],
   "source": [
    "# Construct a correlation table:\n",
    "correlation = daily_returns_df.corr()\n",
    "correlation\n",
    "\n"
   ]
  },
  {
   "cell_type": "code",
   "execution_count": 112,
   "id": "8d18f598-8653-4b5b-bab3-a33c4732960d",
   "metadata": {},
   "outputs": [],
   "source": [
    "#Compare bitcoin to SP500\n",
    "\n",
    "# First, calculate rolling covariance:\n",
    "rolling_covariance = bitcoin_returns['Bitcoin Daily Returns'].rolling(window=60).cov(daily_returns_df['S&P 500 Daily Returns'])\n",
    "\n",
    "# Now, calculate rolling variance:\n",
    "rolling_variance = daily_returns_df['S&P 500 Daily Returns'].rolling(window=60).var()\n",
    "\n"
   ]
  },
  {
   "cell_type": "code",
   "execution_count": 113,
   "id": "e70f2fc7-1301-4ede-ab71-c9d5e4ead20f",
   "metadata": {},
   "outputs": [
    {
     "data": {
      "image/png": "[encoded data removed]",
      "text/plain": [
       "<Figure size 2000x1000 with 1 Axes>"
      ]
     },
     "metadata": {},
     "output_type": "display_data"
    }
   ],
   "source": [
    "# Calculate and plot a rolling window using the exponentially weighted moving average:\n",
    "rolling_ewm = daily_returns_df.ewm(span = 21, adjust = False).mean()\n",
    "(1 + rolling_ewm).cumprod().plot(figsize = (20,10), title=\"21-Day Exponentially Weighted Moving Averages\")\n",
    "plt.margins(x=0)\n"
   ]
  },
  {
   "cell_type": "code",
   "execution_count": 114,
   "id": "9b142e43-6cc6-4566-a48f-d382664ac8f4",
   "metadata": {},
   "outputs": [
    {
     "data": {
      "text/plain": [
       "Price                    NaN\n",
       "S&P 500 Daily Returns    NaN\n",
       "dtype: object"
      ]
     },
     "execution_count": 114,
     "metadata": {},
     "output_type": "execute_result"
    }
   ],
   "source": [
    "# Calculate annualized Sharpe Ratios:\n",
    "annualized_sharpe_ratios = daily_returns_df.mean()*252 / (daily_returns_df.std()*np.sqrt(252))\n",
    "\n",
    "# Sort Sharpe Ratios:\n",
    "annualized_sharpe_ratios_sorted = annualized_sharpe_ratios.sort_values(ascending=False)\n",
    "annualized_sharpe_ratios_sorted"
   ]
  },
  {
   "cell_type": "code",
   "execution_count": 115,
   "id": "b8bf45a8-83ef-4216-a30c-6d1ecddb58f1",
   "metadata": {},
   "outputs": [
    {
     "data": {
      "text/plain": [
       "<AxesSubplot:title={'center':'Annualized Sharpe Ratios'}>"
      ]
     },
     "execution_count": 115,
     "metadata": {},
     "output_type": "execute_result"
    },
    {
     "data": {
      "image/png": "[encoded data removed]",
      "text/plain": [
       "<Figure size 640x480 with 1 Axes>"
      ]
     },
     "metadata": {},
     "output_type": "display_data"
    }
   ],
   "source": [
    "# Visualize the sharpe ratios as a bar plot:\n",
    "annualized_sharpe_ratios.plot(kind = \"bar\", title = \"Annualized Sharpe Ratios\")\n",
    "\n"
   ]
  }
 ],
 "metadata": {
  "kernelspec": {
   "display_name": "Python 3 (ipykernel)",
   "language": "python",
   "name": "python3"
  },
  "language_info": {
   "codemirror_mode": {
    "name": "ipython",
    "version": 3
   },
   "file_extension": ".py",
   "mimetype": "text/x-python",
   "name": "python",
   "nbconvert_exporter": "python",
   "pygments_lexer": "ipython3",
   "version": "3.9.13"
  }
 },
 "nbformat": 4,
 "nbformat_minor": 5
}
