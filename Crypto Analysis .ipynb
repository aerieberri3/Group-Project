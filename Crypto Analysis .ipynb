{
 "cells": [
  {
   "cell_type": "code",
   "execution_count": 123,
   "id": "44217199-b300-4304-8aaa-e5e71926c5f7",
   "metadata": {},
   "outputs": [],
   "source": [
    "import os\n",
    "import json\n",
    "import requests\n",
    "import pandas as pd\n",
    "from dotenv import load_dotenv\n",
    "import alpaca_trade_api as tradeapi\n",
    "from MCForecastTools import MCSimulation\n",
    "import numpy as np\n",
    "\n",
    "%matplotlib inline"
   ]
  },
  {
   "cell_type": "code",
   "execution_count": 124,
   "id": "c05d5ecc-4e29-4bfe-93cd-18942c1c9d49",
   "metadata": {},
   "outputs": [
    {
     "data": {
      "text/plain": [
       "True"
      ]
     },
     "execution_count": 124,
     "metadata": {},
     "output_type": "execute_result"
    }
   ],
   "source": [
    "load_dotenv()"
   ]
  },
  {
   "cell_type": "code",
   "execution_count": 125,
   "id": "bc534f1d-940f-4a27-bc9e-df415a8da021",
   "metadata": {},
   "outputs": [],
   "source": [
    "current_crypto_data = {\n",
    "    \"crypto\": [10, 5]\n",
    "}\n",
    "tickers = [\"SOL\", \"ETH\"]\n",
    "df_crypto_data = pd.DataFrame(current_crypto_data, index=tickers)\n",
    "df_crypto_data.head()\n",
    "\n",
    "my_sol = 10\n",
    "my_eth = 5"
   ]
  },
  {
   "cell_type": "code",
   "execution_count": 126,
   "id": "4bb527b5-11f2-44f7-b1b5-b791f0a87828",
   "metadata": {},
   "outputs": [],
   "source": [
    "sol_url = \"https://api.alternative.me/v2/ticker/Solana/?convert=USD\"\n",
    "eth_url = \"https://api.alternative.me/v2/ticker/Ethereum/?convert=USD\""
   ]
  },
  {
   "cell_type": "code",
   "execution_count": 127,
   "id": "fab00c02-e123-46c0-9ac8-9f4157e98bad",
   "metadata": {},
   "outputs": [
    {
     "data": {
      "text/plain": [
       "20.04"
      ]
     },
     "execution_count": 127,
     "metadata": {},
     "output_type": "execute_result"
    }
   ],
   "source": [
    "sol_response_data = requests.get(sol_url)\n",
    "solprice=sol_response_data.json()[\"data\"][\"11733\"][\"quotes\"][\"USD\"][\"price\"]\n",
    "solprice"
   ]
  },
  {
   "cell_type": "code",
   "execution_count": 128,
   "id": "ed806d8f-42c0-4905-8790-81e5f5b94378",
   "metadata": {},
   "outputs": [
    {
     "data": {
      "text/plain": [
       "1837.28"
      ]
     },
     "execution_count": 128,
     "metadata": {},
     "output_type": "execute_result"
    }
   ],
   "source": [
    "eth_response_data = requests.get(eth_url)\n",
    "ethprice=eth_response_data.json()[\"data\"][\"1027\"][\"quotes\"][\"USD\"][\"price\"]\n",
    "ethprice"
   ]
  },
  {
   "cell_type": "code",
   "execution_count": 130,
   "id": "431ba063-ac2d-482e-a50e-c2c79682b61e",
   "metadata": {},
   "outputs": [],
   "source": [
    "csv_path = (\"../Group Project (self work)/solana_2022-04-07_2023-04-07.csv\")"
   ]
  },
  {
   "cell_type": "code",
   "execution_count": 131,
   "id": "476bef87-a7cb-48cc-8b1a-b41a5e4430ad",
   "metadata": {},
   "outputs": [
    {
     "data": {
      "text/html": [
       "<div>\n",
       "<style scoped>\n",
       "    .dataframe tbody tr th:only-of-type {\n",
       "        vertical-align: middle;\n",
       "    }\n",
       "\n",
       "    .dataframe tbody tr th {\n",
       "        vertical-align: top;\n",
       "    }\n",
       "\n",
       "    .dataframe thead th {\n",
       "        text-align: right;\n",
       "    }\n",
       "</style>\n",
       "<table border=\"1\" class=\"dataframe\">\n",
       "  <thead>\n",
       "    <tr style=\"text-align: right;\">\n",
       "      <th></th>\n",
       "      <th>Open</th>\n",
       "      <th>High</th>\n",
       "      <th>Low</th>\n",
       "      <th>Close</th>\n",
       "      <th>Volume</th>\n",
       "      <th>Market Cap</th>\n",
       "    </tr>\n",
       "    <tr>\n",
       "      <th>Date</th>\n",
       "      <th></th>\n",
       "      <th></th>\n",
       "      <th></th>\n",
       "      <th></th>\n",
       "      <th></th>\n",
       "      <th></th>\n",
       "    </tr>\n",
       "  </thead>\n",
       "  <tbody>\n",
       "    <tr>\n",
       "      <th>2023-04-07</th>\n",
       "      <td>21.115700</td>\n",
       "      <td>21.115700</td>\n",
       "      <td>20.490900</td>\n",
       "      <td>21.074700</td>\n",
       "      <td>514236763.8</td>\n",
       "      <td>8019112515</td>\n",
       "    </tr>\n",
       "    <tr>\n",
       "      <th>2023-04-06</th>\n",
       "      <td>21.308900</td>\n",
       "      <td>21.308900</td>\n",
       "      <td>20.656500</td>\n",
       "      <td>21.092300</td>\n",
       "      <td>661240466.4</td>\n",
       "      <td>8083131223</td>\n",
       "    </tr>\n",
       "    <tr>\n",
       "      <th>2023-04-05</th>\n",
       "      <td>21.274400</td>\n",
       "      <td>21.429600</td>\n",
       "      <td>20.868200</td>\n",
       "      <td>21.294900</td>\n",
       "      <td>764765480.9</td>\n",
       "      <td>8181148724</td>\n",
       "    </tr>\n",
       "    <tr>\n",
       "      <th>2023-04-04</th>\n",
       "      <td>20.714291</td>\n",
       "      <td>21.359900</td>\n",
       "      <td>20.368200</td>\n",
       "      <td>21.263800</td>\n",
       "      <td>949884930.7</td>\n",
       "      <td>8062493862</td>\n",
       "    </tr>\n",
       "    <tr>\n",
       "      <th>2023-04-03</th>\n",
       "      <td>20.969700</td>\n",
       "      <td>21.161211</td>\n",
       "      <td>20.124418</td>\n",
       "      <td>20.689109</td>\n",
       "      <td>753052956.5</td>\n",
       "      <td>7917618884</td>\n",
       "    </tr>\n",
       "  </tbody>\n",
       "</table>\n",
       "</div>"
      ],
      "text/plain": [
       "                 Open       High        Low      Close       Volume  \\\n",
       "Date                                                                  \n",
       "2023-04-07  21.115700  21.115700  20.490900  21.074700  514236763.8   \n",
       "2023-04-06  21.308900  21.308900  20.656500  21.092300  661240466.4   \n",
       "2023-04-05  21.274400  21.429600  20.868200  21.294900  764765480.9   \n",
       "2023-04-04  20.714291  21.359900  20.368200  21.263800  949884930.7   \n",
       "2023-04-03  20.969700  21.161211  20.124418  20.689109  753052956.5   \n",
       "\n",
       "            Market Cap  \n",
       "Date                    \n",
       "2023-04-07  8019112515  \n",
       "2023-04-06  8083131223  \n",
       "2023-04-05  8181148724  \n",
       "2023-04-04  8062493862  \n",
       "2023-04-03  7917618884  "
      ]
     },
     "execution_count": 131,
     "metadata": {},
     "output_type": "execute_result"
    }
   ],
   "source": [
    "solana_df = pd.read_csv(csv_path, index_col=\"Date\", parse_dates=True, infer_datetime_format=True)\n",
    "solana_df.head()"
   ]
  },
  {
   "cell_type": "code",
   "execution_count": 133,
   "id": "989b7e10-25e7-4fde-865c-84ef60abcbb9",
   "metadata": {},
   "outputs": [
    {
     "data": {
      "text/html": [
       "<div>\n",
       "<style scoped>\n",
       "    .dataframe tbody tr th:only-of-type {\n",
       "        vertical-align: middle;\n",
       "    }\n",
       "\n",
       "    .dataframe tbody tr th {\n",
       "        vertical-align: top;\n",
       "    }\n",
       "\n",
       "    .dataframe thead th {\n",
       "        text-align: right;\n",
       "    }\n",
       "</style>\n",
       "<table border=\"1\" class=\"dataframe\">\n",
       "  <thead>\n",
       "    <tr style=\"text-align: right;\">\n",
       "      <th></th>\n",
       "      <th>Open</th>\n",
       "      <th>High</th>\n",
       "      <th>Low</th>\n",
       "      <th>Close</th>\n",
       "      <th>Volume</th>\n",
       "      <th>Market Cap</th>\n",
       "    </tr>\n",
       "    <tr>\n",
       "      <th>Date</th>\n",
       "      <th></th>\n",
       "      <th></th>\n",
       "      <th></th>\n",
       "      <th></th>\n",
       "      <th></th>\n",
       "      <th></th>\n",
       "    </tr>\n",
       "  </thead>\n",
       "  <tbody>\n",
       "    <tr>\n",
       "      <th>2023-04-07</th>\n",
       "      <td>21.115700</td>\n",
       "      <td>21.115700</td>\n",
       "      <td>20.490900</td>\n",
       "      <td>21.074700</td>\n",
       "      <td>5.142368e+08</td>\n",
       "      <td>8019112515</td>\n",
       "    </tr>\n",
       "    <tr>\n",
       "      <th>2023-04-06</th>\n",
       "      <td>21.308900</td>\n",
       "      <td>21.308900</td>\n",
       "      <td>20.656500</td>\n",
       "      <td>21.092300</td>\n",
       "      <td>6.612405e+08</td>\n",
       "      <td>8083131223</td>\n",
       "    </tr>\n",
       "    <tr>\n",
       "      <th>2023-04-05</th>\n",
       "      <td>21.274400</td>\n",
       "      <td>21.429600</td>\n",
       "      <td>20.868200</td>\n",
       "      <td>21.294900</td>\n",
       "      <td>7.647655e+08</td>\n",
       "      <td>8181148724</td>\n",
       "    </tr>\n",
       "    <tr>\n",
       "      <th>2023-04-04</th>\n",
       "      <td>20.714291</td>\n",
       "      <td>21.359900</td>\n",
       "      <td>20.368200</td>\n",
       "      <td>21.263800</td>\n",
       "      <td>9.498849e+08</td>\n",
       "      <td>8062493862</td>\n",
       "    </tr>\n",
       "    <tr>\n",
       "      <th>2023-04-03</th>\n",
       "      <td>20.969700</td>\n",
       "      <td>21.161211</td>\n",
       "      <td>20.124418</td>\n",
       "      <td>20.689109</td>\n",
       "      <td>7.530530e+08</td>\n",
       "      <td>7917618884</td>\n",
       "    </tr>\n",
       "    <tr>\n",
       "      <th>...</th>\n",
       "      <td>...</td>\n",
       "      <td>...</td>\n",
       "      <td>...</td>\n",
       "      <td>...</td>\n",
       "      <td>...</td>\n",
       "      <td>...</td>\n",
       "    </tr>\n",
       "    <tr>\n",
       "      <th>2022-04-11</th>\n",
       "      <td>111.070100</td>\n",
       "      <td>111.751200</td>\n",
       "      <td>98.999100</td>\n",
       "      <td>99.657668</td>\n",
       "      <td>2.834260e+09</td>\n",
       "      <td>34734453378</td>\n",
       "    </tr>\n",
       "    <tr>\n",
       "      <th>2022-04-10</th>\n",
       "      <td>112.989397</td>\n",
       "      <td>112.989397</td>\n",
       "      <td>112.989397</td>\n",
       "      <td>112.989397</td>\n",
       "      <td>1.873845e+09</td>\n",
       "      <td>37021471252</td>\n",
       "    </tr>\n",
       "    <tr>\n",
       "      <th>2022-04-09</th>\n",
       "      <td>109.929800</td>\n",
       "      <td>113.130907</td>\n",
       "      <td>108.726135</td>\n",
       "      <td>113.130907</td>\n",
       "      <td>2.951543e+09</td>\n",
       "      <td>36210898016</td>\n",
       "    </tr>\n",
       "    <tr>\n",
       "      <th>2022-04-08</th>\n",
       "      <td>118.718457</td>\n",
       "      <td>122.051778</td>\n",
       "      <td>108.605400</td>\n",
       "      <td>109.755500</td>\n",
       "      <td>3.572973e+09</td>\n",
       "      <td>38186601588</td>\n",
       "    </tr>\n",
       "    <tr>\n",
       "      <th>2022-04-07</th>\n",
       "      <td>113.056986</td>\n",
       "      <td>119.859500</td>\n",
       "      <td>111.809927</td>\n",
       "      <td>118.914849</td>\n",
       "      <td>4.636534e+09</td>\n",
       "      <td>37819207023</td>\n",
       "    </tr>\n",
       "  </tbody>\n",
       "</table>\n",
       "<p>366 rows × 6 columns</p>\n",
       "</div>"
      ],
      "text/plain": [
       "                  Open        High         Low       Close        Volume  \\\n",
       "Date                                                                       \n",
       "2023-04-07   21.115700   21.115700   20.490900   21.074700  5.142368e+08   \n",
       "2023-04-06   21.308900   21.308900   20.656500   21.092300  6.612405e+08   \n",
       "2023-04-05   21.274400   21.429600   20.868200   21.294900  7.647655e+08   \n",
       "2023-04-04   20.714291   21.359900   20.368200   21.263800  9.498849e+08   \n",
       "2023-04-03   20.969700   21.161211   20.124418   20.689109  7.530530e+08   \n",
       "...                ...         ...         ...         ...           ...   \n",
       "2022-04-11  111.070100  111.751200   98.999100   99.657668  2.834260e+09   \n",
       "2022-04-10  112.989397  112.989397  112.989397  112.989397  1.873845e+09   \n",
       "2022-04-09  109.929800  113.130907  108.726135  113.130907  2.951543e+09   \n",
       "2022-04-08  118.718457  122.051778  108.605400  109.755500  3.572973e+09   \n",
       "2022-04-07  113.056986  119.859500  111.809927  118.914849  4.636534e+09   \n",
       "\n",
       "             Market Cap  \n",
       "Date                     \n",
       "2023-04-07   8019112515  \n",
       "2023-04-06   8083131223  \n",
       "2023-04-05   8181148724  \n",
       "2023-04-04   8062493862  \n",
       "2023-04-03   7917618884  \n",
       "...                 ...  \n",
       "2022-04-11  34734453378  \n",
       "2022-04-10  37021471252  \n",
       "2022-04-09  36210898016  \n",
       "2022-04-08  38186601588  \n",
       "2022-04-07  37819207023  \n",
       "\n",
       "[366 rows x 6 columns]"
      ]
     },
     "execution_count": 133,
     "metadata": {},
     "output_type": "execute_result"
    }
   ],
   "source": [
    "solana_df.dropna(inplace=True)\n",
    "solana_df"
   ]
  },
  {
   "cell_type": "code",
   "execution_count": 134,
   "id": "63939705-5553-4a9f-b0be-aa3e4166d790",
   "metadata": {},
   "outputs": [
    {
     "data": {
      "text/html": [
       "<div>\n",
       "<style scoped>\n",
       "    .dataframe tbody tr th:only-of-type {\n",
       "        vertical-align: middle;\n",
       "    }\n",
       "\n",
       "    .dataframe tbody tr th {\n",
       "        vertical-align: top;\n",
       "    }\n",
       "\n",
       "    .dataframe thead th {\n",
       "        text-align: right;\n",
       "    }\n",
       "</style>\n",
       "<table border=\"1\" class=\"dataframe\">\n",
       "  <thead>\n",
       "    <tr style=\"text-align: right;\">\n",
       "      <th></th>\n",
       "      <th>Open</th>\n",
       "      <th>High</th>\n",
       "      <th>Low</th>\n",
       "      <th>SOL Close</th>\n",
       "      <th>Volume</th>\n",
       "      <th>Market Cap</th>\n",
       "    </tr>\n",
       "    <tr>\n",
       "      <th>Date</th>\n",
       "      <th></th>\n",
       "      <th></th>\n",
       "      <th></th>\n",
       "      <th></th>\n",
       "      <th></th>\n",
       "      <th></th>\n",
       "    </tr>\n",
       "  </thead>\n",
       "  <tbody>\n",
       "    <tr>\n",
       "      <th>2023-04-07</th>\n",
       "      <td>21.115700</td>\n",
       "      <td>21.115700</td>\n",
       "      <td>20.490900</td>\n",
       "      <td>21.074700</td>\n",
       "      <td>514236763.8</td>\n",
       "      <td>8019112515</td>\n",
       "    </tr>\n",
       "    <tr>\n",
       "      <th>2023-04-06</th>\n",
       "      <td>21.308900</td>\n",
       "      <td>21.308900</td>\n",
       "      <td>20.656500</td>\n",
       "      <td>21.092300</td>\n",
       "      <td>661240466.4</td>\n",
       "      <td>8083131223</td>\n",
       "    </tr>\n",
       "    <tr>\n",
       "      <th>2023-04-05</th>\n",
       "      <td>21.274400</td>\n",
       "      <td>21.429600</td>\n",
       "      <td>20.868200</td>\n",
       "      <td>21.294900</td>\n",
       "      <td>764765480.9</td>\n",
       "      <td>8181148724</td>\n",
       "    </tr>\n",
       "    <tr>\n",
       "      <th>2023-04-04</th>\n",
       "      <td>20.714291</td>\n",
       "      <td>21.359900</td>\n",
       "      <td>20.368200</td>\n",
       "      <td>21.263800</td>\n",
       "      <td>949884930.7</td>\n",
       "      <td>8062493862</td>\n",
       "    </tr>\n",
       "    <tr>\n",
       "      <th>2023-04-03</th>\n",
       "      <td>20.969700</td>\n",
       "      <td>21.161211</td>\n",
       "      <td>20.124418</td>\n",
       "      <td>20.689109</td>\n",
       "      <td>753052956.5</td>\n",
       "      <td>7917618884</td>\n",
       "    </tr>\n",
       "  </tbody>\n",
       "</table>\n",
       "</div>"
      ],
      "text/plain": [
       "                 Open       High        Low  SOL Close       Volume  \\\n",
       "Date                                                                  \n",
       "2023-04-07  21.115700  21.115700  20.490900  21.074700  514236763.8   \n",
       "2023-04-06  21.308900  21.308900  20.656500  21.092300  661240466.4   \n",
       "2023-04-05  21.274400  21.429600  20.868200  21.294900  764765480.9   \n",
       "2023-04-04  20.714291  21.359900  20.368200  21.263800  949884930.7   \n",
       "2023-04-03  20.969700  21.161211  20.124418  20.689109  753052956.5   \n",
       "\n",
       "            Market Cap  \n",
       "Date                    \n",
       "2023-04-07  8019112515  \n",
       "2023-04-06  8083131223  \n",
       "2023-04-05  8181148724  \n",
       "2023-04-04  8062493862  \n",
       "2023-04-03  7917618884  "
      ]
     },
     "execution_count": 134,
     "metadata": {},
     "output_type": "execute_result"
    }
   ],
   "source": [
    "solana_df = solana_df.rename(columns={\n",
    "    \"Close\": \"SOL Close\"\n",
    "})\n",
    "\n",
    "solana_df.head()"
   ]
  },
  {
   "cell_type": "code",
   "execution_count": 135,
   "id": "4995c6bb-bce2-4389-9798-44260ce67bc6",
   "metadata": {},
   "outputs": [],
   "source": [
    "csv_path = (\"../Group Project (self work)/ethereum_data1.csv\")"
   ]
  },
  {
   "cell_type": "code",
   "execution_count": 136,
   "id": "a2f3e9a7-1816-472d-a211-c0435414409c",
   "metadata": {},
   "outputs": [
    {
     "data": {
      "text/html": [
       "<div>\n",
       "<style scoped>\n",
       "    .dataframe tbody tr th:only-of-type {\n",
       "        vertical-align: middle;\n",
       "    }\n",
       "\n",
       "    .dataframe tbody tr th {\n",
       "        vertical-align: top;\n",
       "    }\n",
       "\n",
       "    .dataframe thead th {\n",
       "        text-align: right;\n",
       "    }\n",
       "</style>\n",
       "<table border=\"1\" class=\"dataframe\">\n",
       "  <thead>\n",
       "    <tr style=\"text-align: right;\">\n",
       "      <th></th>\n",
       "      <th>Open</th>\n",
       "      <th>High</th>\n",
       "      <th>Low</th>\n",
       "      <th>Close</th>\n",
       "      <th>Volume</th>\n",
       "      <th>Market Cap</th>\n",
       "    </tr>\n",
       "    <tr>\n",
       "      <th>Date</th>\n",
       "      <th></th>\n",
       "      <th></th>\n",
       "      <th></th>\n",
       "      <th></th>\n",
       "      <th></th>\n",
       "      <th></th>\n",
       "    </tr>\n",
       "  </thead>\n",
       "  <tbody>\n",
       "    <tr>\n",
       "      <th>2023-04-07</th>\n",
       "      <td>1868.230500</td>\n",
       "      <td>1876.7467</td>\n",
       "      <td>1843.310916</td>\n",
       "      <td>1861.181700</td>\n",
       "      <td>1.889246e+10</td>\n",
       "      <td>2.238295e+11</td>\n",
       "    </tr>\n",
       "    <tr>\n",
       "      <th>2023-04-06</th>\n",
       "      <td>1904.798600</td>\n",
       "      <td>1904.7986</td>\n",
       "      <td>1854.507500</td>\n",
       "      <td>1867.531400</td>\n",
       "      <td>2.363320e+10</td>\n",
       "      <td>2.258961e+11</td>\n",
       "    </tr>\n",
       "    <tr>\n",
       "      <th>2023-04-05</th>\n",
       "      <td>1869.248500</td>\n",
       "      <td>1924.3323</td>\n",
       "      <td>1866.754800</td>\n",
       "      <td>1905.910900</td>\n",
       "      <td>2.985338e+10</td>\n",
       "      <td>2.292801e+11</td>\n",
       "    </tr>\n",
       "    <tr>\n",
       "      <th>2023-04-04</th>\n",
       "      <td>1809.424169</td>\n",
       "      <td>1878.9072</td>\n",
       "      <td>1803.206766</td>\n",
       "      <td>1868.088900</td>\n",
       "      <td>4.680813e+10</td>\n",
       "      <td>2.218528e+11</td>\n",
       "    </tr>\n",
       "    <tr>\n",
       "      <th>2023-04-03</th>\n",
       "      <td>1794.062500</td>\n",
       "      <td>1832.5562</td>\n",
       "      <td>1764.688700</td>\n",
       "      <td>1807.962922</td>\n",
       "      <td>2.158686e+10</td>\n",
       "      <td>2.163377e+11</td>\n",
       "    </tr>\n",
       "  </tbody>\n",
       "</table>\n",
       "</div>"
      ],
      "text/plain": [
       "                   Open       High          Low        Close        Volume  \\\n",
       "Date                                                                         \n",
       "2023-04-07  1868.230500  1876.7467  1843.310916  1861.181700  1.889246e+10   \n",
       "2023-04-06  1904.798600  1904.7986  1854.507500  1867.531400  2.363320e+10   \n",
       "2023-04-05  1869.248500  1924.3323  1866.754800  1905.910900  2.985338e+10   \n",
       "2023-04-04  1809.424169  1878.9072  1803.206766  1868.088900  4.680813e+10   \n",
       "2023-04-03  1794.062500  1832.5562  1764.688700  1807.962922  2.158686e+10   \n",
       "\n",
       "              Market Cap  \n",
       "Date                      \n",
       "2023-04-07  2.238295e+11  \n",
       "2023-04-06  2.258961e+11  \n",
       "2023-04-05  2.292801e+11  \n",
       "2023-04-04  2.218528e+11  \n",
       "2023-04-03  2.163377e+11  "
      ]
     },
     "execution_count": 136,
     "metadata": {},
     "output_type": "execute_result"
    }
   ],
   "source": [
    "ethereum_df = pd.read_csv(csv_path, index_col=\"Date\", parse_dates=True, infer_datetime_format=True)\n",
    "ethereum_df.head()"
   ]
  },
  {
   "cell_type": "code",
   "execution_count": 137,
   "id": "40c4ad55-9d58-4d6e-811a-e8b7b1a97b37",
   "metadata": {},
   "outputs": [
    {
     "data": {
      "text/plain": [
       "Open          0\n",
       "High          0\n",
       "Low           0\n",
       "Close         0\n",
       "Volume        0\n",
       "Market Cap    0\n",
       "dtype: int64"
      ]
     },
     "execution_count": 137,
     "metadata": {},
     "output_type": "execute_result"
    }
   ],
   "source": [
    "ethereum_df.isnull().sum()"
   ]
  },
  {
   "cell_type": "code",
   "execution_count": 138,
   "id": "016c0d69-dd19-4df8-ba3f-6bdc91c4246d",
   "metadata": {},
   "outputs": [
    {
     "data": {
      "text/html": [
       "<div>\n",
       "<style scoped>\n",
       "    .dataframe tbody tr th:only-of-type {\n",
       "        vertical-align: middle;\n",
       "    }\n",
       "\n",
       "    .dataframe tbody tr th {\n",
       "        vertical-align: top;\n",
       "    }\n",
       "\n",
       "    .dataframe thead th {\n",
       "        text-align: right;\n",
       "    }\n",
       "</style>\n",
       "<table border=\"1\" class=\"dataframe\">\n",
       "  <thead>\n",
       "    <tr style=\"text-align: right;\">\n",
       "      <th></th>\n",
       "      <th>Open</th>\n",
       "      <th>High</th>\n",
       "      <th>Low</th>\n",
       "      <th>Close</th>\n",
       "      <th>Volume</th>\n",
       "      <th>Market Cap</th>\n",
       "    </tr>\n",
       "    <tr>\n",
       "      <th>Date</th>\n",
       "      <th></th>\n",
       "      <th></th>\n",
       "      <th></th>\n",
       "      <th></th>\n",
       "      <th></th>\n",
       "      <th></th>\n",
       "    </tr>\n",
       "  </thead>\n",
       "  <tbody>\n",
       "    <tr>\n",
       "      <th>2023-04-07</th>\n",
       "      <td>1868.230500</td>\n",
       "      <td>1876.746700</td>\n",
       "      <td>1843.310916</td>\n",
       "      <td>1861.181700</td>\n",
       "      <td>1.889246e+10</td>\n",
       "      <td>2.238295e+11</td>\n",
       "    </tr>\n",
       "    <tr>\n",
       "      <th>2023-04-06</th>\n",
       "      <td>1904.798600</td>\n",
       "      <td>1904.798600</td>\n",
       "      <td>1854.507500</td>\n",
       "      <td>1867.531400</td>\n",
       "      <td>2.363320e+10</td>\n",
       "      <td>2.258961e+11</td>\n",
       "    </tr>\n",
       "    <tr>\n",
       "      <th>2023-04-05</th>\n",
       "      <td>1869.248500</td>\n",
       "      <td>1924.332300</td>\n",
       "      <td>1866.754800</td>\n",
       "      <td>1905.910900</td>\n",
       "      <td>2.985338e+10</td>\n",
       "      <td>2.292801e+11</td>\n",
       "    </tr>\n",
       "    <tr>\n",
       "      <th>2023-04-04</th>\n",
       "      <td>1809.424169</td>\n",
       "      <td>1878.907200</td>\n",
       "      <td>1803.206766</td>\n",
       "      <td>1868.088900</td>\n",
       "      <td>4.680813e+10</td>\n",
       "      <td>2.218528e+11</td>\n",
       "    </tr>\n",
       "    <tr>\n",
       "      <th>2023-04-03</th>\n",
       "      <td>1794.062500</td>\n",
       "      <td>1832.556200</td>\n",
       "      <td>1764.688700</td>\n",
       "      <td>1807.962922</td>\n",
       "      <td>2.158686e+10</td>\n",
       "      <td>2.163377e+11</td>\n",
       "    </tr>\n",
       "    <tr>\n",
       "      <th>...</th>\n",
       "      <td>...</td>\n",
       "      <td>...</td>\n",
       "      <td>...</td>\n",
       "      <td>...</td>\n",
       "      <td>...</td>\n",
       "      <td>...</td>\n",
       "    </tr>\n",
       "    <tr>\n",
       "      <th>2022-04-11</th>\n",
       "      <td>3206.793100</td>\n",
       "      <td>3216.940800</td>\n",
       "      <td>2966.003600</td>\n",
       "      <td>2986.513994</td>\n",
       "      <td>2.963645e+10</td>\n",
       "      <td>3.727490e+11</td>\n",
       "    </tr>\n",
       "    <tr>\n",
       "      <th>2022-04-10</th>\n",
       "      <td>3268.050935</td>\n",
       "      <td>3268.050935</td>\n",
       "      <td>3268.050935</td>\n",
       "      <td>3268.050935</td>\n",
       "      <td>1.764877e+10</td>\n",
       "      <td>3.931881e+11</td>\n",
       "    </tr>\n",
       "    <tr>\n",
       "      <th>2022-04-09</th>\n",
       "      <td>3197.992100</td>\n",
       "      <td>3266.452679</td>\n",
       "      <td>3190.763300</td>\n",
       "      <td>3266.452679</td>\n",
       "      <td>2.532125e+10</td>\n",
       "      <td>3.877849e+11</td>\n",
       "    </tr>\n",
       "    <tr>\n",
       "      <th>2022-04-08</th>\n",
       "      <td>3233.109855</td>\n",
       "      <td>3310.757896</td>\n",
       "      <td>3181.833100</td>\n",
       "      <td>3197.027500</td>\n",
       "      <td>2.861533e+10</td>\n",
       "      <td>3.920403e+11</td>\n",
       "    </tr>\n",
       "    <tr>\n",
       "      <th>2022-04-07</th>\n",
       "      <td>3173.681729</td>\n",
       "      <td>3268.738900</td>\n",
       "      <td>3154.078973</td>\n",
       "      <td>3238.589493</td>\n",
       "      <td>3.651199e+10</td>\n",
       "      <td>3.871879e+11</td>\n",
       "    </tr>\n",
       "  </tbody>\n",
       "</table>\n",
       "<p>366 rows × 6 columns</p>\n",
       "</div>"
      ],
      "text/plain": [
       "                   Open         High          Low        Close        Volume  \\\n",
       "Date                                                                           \n",
       "2023-04-07  1868.230500  1876.746700  1843.310916  1861.181700  1.889246e+10   \n",
       "2023-04-06  1904.798600  1904.798600  1854.507500  1867.531400  2.363320e+10   \n",
       "2023-04-05  1869.248500  1924.332300  1866.754800  1905.910900  2.985338e+10   \n",
       "2023-04-04  1809.424169  1878.907200  1803.206766  1868.088900  4.680813e+10   \n",
       "2023-04-03  1794.062500  1832.556200  1764.688700  1807.962922  2.158686e+10   \n",
       "...                 ...          ...          ...          ...           ...   \n",
       "2022-04-11  3206.793100  3216.940800  2966.003600  2986.513994  2.963645e+10   \n",
       "2022-04-10  3268.050935  3268.050935  3268.050935  3268.050935  1.764877e+10   \n",
       "2022-04-09  3197.992100  3266.452679  3190.763300  3266.452679  2.532125e+10   \n",
       "2022-04-08  3233.109855  3310.757896  3181.833100  3197.027500  2.861533e+10   \n",
       "2022-04-07  3173.681729  3268.738900  3154.078973  3238.589493  3.651199e+10   \n",
       "\n",
       "              Market Cap  \n",
       "Date                      \n",
       "2023-04-07  2.238295e+11  \n",
       "2023-04-06  2.258961e+11  \n",
       "2023-04-05  2.292801e+11  \n",
       "2023-04-04  2.218528e+11  \n",
       "2023-04-03  2.163377e+11  \n",
       "...                  ...  \n",
       "2022-04-11  3.727490e+11  \n",
       "2022-04-10  3.931881e+11  \n",
       "2022-04-09  3.877849e+11  \n",
       "2022-04-08  3.920403e+11  \n",
       "2022-04-07  3.871879e+11  \n",
       "\n",
       "[366 rows x 6 columns]"
      ]
     },
     "execution_count": 138,
     "metadata": {},
     "output_type": "execute_result"
    }
   ],
   "source": [
    "ethereum_df.dropna(inplace=True)\n",
    "ethereum_df"
   ]
  },
  {
   "cell_type": "code",
   "execution_count": 139,
   "id": "82594439-e27e-4c9f-8f47-4d67e8890fa4",
   "metadata": {},
   "outputs": [
    {
     "data": {
      "text/html": [
       "<div>\n",
       "<style scoped>\n",
       "    .dataframe tbody tr th:only-of-type {\n",
       "        vertical-align: middle;\n",
       "    }\n",
       "\n",
       "    .dataframe tbody tr th {\n",
       "        vertical-align: top;\n",
       "    }\n",
       "\n",
       "    .dataframe thead th {\n",
       "        text-align: right;\n",
       "    }\n",
       "</style>\n",
       "<table border=\"1\" class=\"dataframe\">\n",
       "  <thead>\n",
       "    <tr style=\"text-align: right;\">\n",
       "      <th></th>\n",
       "      <th>Open</th>\n",
       "      <th>High</th>\n",
       "      <th>Low</th>\n",
       "      <th>Eth Close</th>\n",
       "      <th>Volume</th>\n",
       "      <th>Market Cap</th>\n",
       "    </tr>\n",
       "    <tr>\n",
       "      <th>Date</th>\n",
       "      <th></th>\n",
       "      <th></th>\n",
       "      <th></th>\n",
       "      <th></th>\n",
       "      <th></th>\n",
       "      <th></th>\n",
       "    </tr>\n",
       "  </thead>\n",
       "  <tbody>\n",
       "    <tr>\n",
       "      <th>2023-04-07</th>\n",
       "      <td>1868.230500</td>\n",
       "      <td>1876.7467</td>\n",
       "      <td>1843.310916</td>\n",
       "      <td>1861.181700</td>\n",
       "      <td>1.889246e+10</td>\n",
       "      <td>2.238295e+11</td>\n",
       "    </tr>\n",
       "    <tr>\n",
       "      <th>2023-04-06</th>\n",
       "      <td>1904.798600</td>\n",
       "      <td>1904.7986</td>\n",
       "      <td>1854.507500</td>\n",
       "      <td>1867.531400</td>\n",
       "      <td>2.363320e+10</td>\n",
       "      <td>2.258961e+11</td>\n",
       "    </tr>\n",
       "    <tr>\n",
       "      <th>2023-04-05</th>\n",
       "      <td>1869.248500</td>\n",
       "      <td>1924.3323</td>\n",
       "      <td>1866.754800</td>\n",
       "      <td>1905.910900</td>\n",
       "      <td>2.985338e+10</td>\n",
       "      <td>2.292801e+11</td>\n",
       "    </tr>\n",
       "    <tr>\n",
       "      <th>2023-04-04</th>\n",
       "      <td>1809.424169</td>\n",
       "      <td>1878.9072</td>\n",
       "      <td>1803.206766</td>\n",
       "      <td>1868.088900</td>\n",
       "      <td>4.680813e+10</td>\n",
       "      <td>2.218528e+11</td>\n",
       "    </tr>\n",
       "    <tr>\n",
       "      <th>2023-04-03</th>\n",
       "      <td>1794.062500</td>\n",
       "      <td>1832.5562</td>\n",
       "      <td>1764.688700</td>\n",
       "      <td>1807.962922</td>\n",
       "      <td>2.158686e+10</td>\n",
       "      <td>2.163377e+11</td>\n",
       "    </tr>\n",
       "  </tbody>\n",
       "</table>\n",
       "</div>"
      ],
      "text/plain": [
       "                   Open       High          Low    Eth Close        Volume  \\\n",
       "Date                                                                         \n",
       "2023-04-07  1868.230500  1876.7467  1843.310916  1861.181700  1.889246e+10   \n",
       "2023-04-06  1904.798600  1904.7986  1854.507500  1867.531400  2.363320e+10   \n",
       "2023-04-05  1869.248500  1924.3323  1866.754800  1905.910900  2.985338e+10   \n",
       "2023-04-04  1809.424169  1878.9072  1803.206766  1868.088900  4.680813e+10   \n",
       "2023-04-03  1794.062500  1832.5562  1764.688700  1807.962922  2.158686e+10   \n",
       "\n",
       "              Market Cap  \n",
       "Date                      \n",
       "2023-04-07  2.238295e+11  \n",
       "2023-04-06  2.258961e+11  \n",
       "2023-04-05  2.292801e+11  \n",
       "2023-04-04  2.218528e+11  \n",
       "2023-04-03  2.163377e+11  "
      ]
     },
     "execution_count": 139,
     "metadata": {},
     "output_type": "execute_result"
    }
   ],
   "source": [
    "ethereum_df = ethereum_df.rename(columns={\n",
    "    \"Close\": \"Eth Close\"\n",
    "})\n",
    "\n",
    "ethereum_df.head()"
   ]
  },
  {
   "cell_type": "code",
   "execution_count": 140,
   "id": "02d80780-7093-429c-9564-971294b63d2f",
   "metadata": {},
   "outputs": [
    {
     "data": {
      "text/html": [
       "<div>\n",
       "<style scoped>\n",
       "    .dataframe tbody tr th:only-of-type {\n",
       "        vertical-align: middle;\n",
       "    }\n",
       "\n",
       "    .dataframe tbody tr th {\n",
       "        vertical-align: top;\n",
       "    }\n",
       "\n",
       "    .dataframe thead th {\n",
       "        text-align: right;\n",
       "    }\n",
       "</style>\n",
       "<table border=\"1\" class=\"dataframe\">\n",
       "  <thead>\n",
       "    <tr style=\"text-align: right;\">\n",
       "      <th></th>\n",
       "      <th>Open</th>\n",
       "      <th>High</th>\n",
       "      <th>Low</th>\n",
       "      <th>SOL Close</th>\n",
       "      <th>Volume</th>\n",
       "      <th>Market Cap</th>\n",
       "      <th>Open</th>\n",
       "      <th>High</th>\n",
       "      <th>Low</th>\n",
       "      <th>Eth Close</th>\n",
       "      <th>Volume</th>\n",
       "      <th>Market Cap</th>\n",
       "    </tr>\n",
       "    <tr>\n",
       "      <th>Date</th>\n",
       "      <th></th>\n",
       "      <th></th>\n",
       "      <th></th>\n",
       "      <th></th>\n",
       "      <th></th>\n",
       "      <th></th>\n",
       "      <th></th>\n",
       "      <th></th>\n",
       "      <th></th>\n",
       "      <th></th>\n",
       "      <th></th>\n",
       "      <th></th>\n",
       "    </tr>\n",
       "  </thead>\n",
       "  <tbody>\n",
       "    <tr>\n",
       "      <th>2022-04-07</th>\n",
       "      <td>113.056986</td>\n",
       "      <td>119.859500</td>\n",
       "      <td>111.809927</td>\n",
       "      <td>118.914849</td>\n",
       "      <td>4.636534e+09</td>\n",
       "      <td>37819207023</td>\n",
       "      <td>3173.681729</td>\n",
       "      <td>3268.738900</td>\n",
       "      <td>3154.078973</td>\n",
       "      <td>3238.589493</td>\n",
       "      <td>3.651199e+10</td>\n",
       "      <td>3.871879e+11</td>\n",
       "    </tr>\n",
       "    <tr>\n",
       "      <th>2022-04-08</th>\n",
       "      <td>118.718457</td>\n",
       "      <td>122.051778</td>\n",
       "      <td>108.605400</td>\n",
       "      <td>109.755500</td>\n",
       "      <td>3.572973e+09</td>\n",
       "      <td>38186601588</td>\n",
       "      <td>3233.109855</td>\n",
       "      <td>3310.757896</td>\n",
       "      <td>3181.833100</td>\n",
       "      <td>3197.027500</td>\n",
       "      <td>2.861533e+10</td>\n",
       "      <td>3.920403e+11</td>\n",
       "    </tr>\n",
       "    <tr>\n",
       "      <th>2022-04-09</th>\n",
       "      <td>109.929800</td>\n",
       "      <td>113.130907</td>\n",
       "      <td>108.726135</td>\n",
       "      <td>113.130907</td>\n",
       "      <td>2.951543e+09</td>\n",
       "      <td>36210898016</td>\n",
       "      <td>3197.992100</td>\n",
       "      <td>3266.452679</td>\n",
       "      <td>3190.763300</td>\n",
       "      <td>3266.452679</td>\n",
       "      <td>2.532125e+10</td>\n",
       "      <td>3.877849e+11</td>\n",
       "    </tr>\n",
       "    <tr>\n",
       "      <th>2022-04-10</th>\n",
       "      <td>112.989397</td>\n",
       "      <td>112.989397</td>\n",
       "      <td>112.989397</td>\n",
       "      <td>112.989397</td>\n",
       "      <td>1.873845e+09</td>\n",
       "      <td>37021471252</td>\n",
       "      <td>3268.050935</td>\n",
       "      <td>3268.050935</td>\n",
       "      <td>3268.050935</td>\n",
       "      <td>3268.050935</td>\n",
       "      <td>1.764877e+10</td>\n",
       "      <td>3.931881e+11</td>\n",
       "    </tr>\n",
       "    <tr>\n",
       "      <th>2022-04-11</th>\n",
       "      <td>111.070100</td>\n",
       "      <td>111.751200</td>\n",
       "      <td>98.999100</td>\n",
       "      <td>99.657668</td>\n",
       "      <td>2.834260e+09</td>\n",
       "      <td>34734453378</td>\n",
       "      <td>3206.793100</td>\n",
       "      <td>3216.940800</td>\n",
       "      <td>2966.003600</td>\n",
       "      <td>2986.513994</td>\n",
       "      <td>2.963645e+10</td>\n",
       "      <td>3.727490e+11</td>\n",
       "    </tr>\n",
       "  </tbody>\n",
       "</table>\n",
       "</div>"
      ],
      "text/plain": [
       "                  Open        High         Low   SOL Close        Volume  \\\n",
       "Date                                                                       \n",
       "2022-04-07  113.056986  119.859500  111.809927  118.914849  4.636534e+09   \n",
       "2022-04-08  118.718457  122.051778  108.605400  109.755500  3.572973e+09   \n",
       "2022-04-09  109.929800  113.130907  108.726135  113.130907  2.951543e+09   \n",
       "2022-04-10  112.989397  112.989397  112.989397  112.989397  1.873845e+09   \n",
       "2022-04-11  111.070100  111.751200   98.999100   99.657668  2.834260e+09   \n",
       "\n",
       "             Market Cap         Open         High          Low    Eth Close  \\\n",
       "Date                                                                          \n",
       "2022-04-07  37819207023  3173.681729  3268.738900  3154.078973  3238.589493   \n",
       "2022-04-08  38186601588  3233.109855  3310.757896  3181.833100  3197.027500   \n",
       "2022-04-09  36210898016  3197.992100  3266.452679  3190.763300  3266.452679   \n",
       "2022-04-10  37021471252  3268.050935  3268.050935  3268.050935  3268.050935   \n",
       "2022-04-11  34734453378  3206.793100  3216.940800  2966.003600  2986.513994   \n",
       "\n",
       "                  Volume    Market Cap  \n",
       "Date                                    \n",
       "2022-04-07  3.651199e+10  3.871879e+11  \n",
       "2022-04-08  2.861533e+10  3.920403e+11  \n",
       "2022-04-09  2.532125e+10  3.877849e+11  \n",
       "2022-04-10  1.764877e+10  3.931881e+11  \n",
       "2022-04-11  2.963645e+10  3.727490e+11  "
      ]
     },
     "execution_count": 140,
     "metadata": {},
     "output_type": "execute_result"
    }
   ],
   "source": [
    "combined_data = pd.concat([solana_df,ethereum_df], axis=\"columns\", join=\"inner\")\n",
    "combined_data\n",
    "combined_data.sort_index(inplace=True)\n",
    "combined_data.head()"
   ]
  },
  {
   "cell_type": "code",
   "execution_count": 141,
   "id": "05ce8eeb-c113-4d12-88fe-931be73f5b48",
   "metadata": {},
   "outputs": [
    {
     "data": {
      "text/html": [
       "<div>\n",
       "<style scoped>\n",
       "    .dataframe tbody tr th:only-of-type {\n",
       "        vertical-align: middle;\n",
       "    }\n",
       "\n",
       "    .dataframe tbody tr th {\n",
       "        vertical-align: top;\n",
       "    }\n",
       "\n",
       "    .dataframe thead th {\n",
       "        text-align: right;\n",
       "    }\n",
       "</style>\n",
       "<table border=\"1\" class=\"dataframe\">\n",
       "  <thead>\n",
       "    <tr style=\"text-align: right;\">\n",
       "      <th></th>\n",
       "      <th>SOL Close</th>\n",
       "      <th>Eth Close</th>\n",
       "    </tr>\n",
       "    <tr>\n",
       "      <th>Date</th>\n",
       "      <th></th>\n",
       "      <th></th>\n",
       "    </tr>\n",
       "  </thead>\n",
       "  <tbody>\n",
       "    <tr>\n",
       "      <th>2022-04-07</th>\n",
       "      <td>118.914849</td>\n",
       "      <td>3238.589493</td>\n",
       "    </tr>\n",
       "    <tr>\n",
       "      <th>2022-04-08</th>\n",
       "      <td>109.755500</td>\n",
       "      <td>3197.027500</td>\n",
       "    </tr>\n",
       "    <tr>\n",
       "      <th>2022-04-09</th>\n",
       "      <td>113.130907</td>\n",
       "      <td>3266.452679</td>\n",
       "    </tr>\n",
       "    <tr>\n",
       "      <th>2022-04-10</th>\n",
       "      <td>112.989397</td>\n",
       "      <td>3268.050935</td>\n",
       "    </tr>\n",
       "    <tr>\n",
       "      <th>2022-04-11</th>\n",
       "      <td>99.657668</td>\n",
       "      <td>2986.513994</td>\n",
       "    </tr>\n",
       "  </tbody>\n",
       "</table>\n",
       "</div>"
      ],
      "text/plain": [
       "             SOL Close    Eth Close\n",
       "Date                               \n",
       "2022-04-07  118.914849  3238.589493\n",
       "2022-04-08  109.755500  3197.027500\n",
       "2022-04-09  113.130907  3266.452679\n",
       "2022-04-10  112.989397  3268.050935\n",
       "2022-04-11   99.657668  2986.513994"
      ]
     },
     "execution_count": 141,
     "metadata": {},
     "output_type": "execute_result"
    }
   ],
   "source": [
    "combined_data = combined_data.drop(columns=[\"Open\", \"High\", \"Low\", \"Volume\", \"Market Cap\"])\n",
    "combined_data.head()"
   ]
  },
  {
   "cell_type": "code",
   "execution_count": 142,
   "id": "c158b7f1-e8ea-4ce0-8c2e-cbb7552ded29",
   "metadata": {},
   "outputs": [
    {
     "data": {
      "text/html": [
       "<div>\n",
       "<style scoped>\n",
       "    .dataframe tbody tr th:only-of-type {\n",
       "        vertical-align: middle;\n",
       "    }\n",
       "\n",
       "    .dataframe tbody tr th {\n",
       "        vertical-align: top;\n",
       "    }\n",
       "\n",
       "    .dataframe thead th {\n",
       "        text-align: right;\n",
       "    }\n",
       "</style>\n",
       "<table border=\"1\" class=\"dataframe\">\n",
       "  <thead>\n",
       "    <tr style=\"text-align: right;\">\n",
       "      <th></th>\n",
       "      <th>Solana Closing Price</th>\n",
       "      <th>Ethereum Closing Price</th>\n",
       "    </tr>\n",
       "    <tr>\n",
       "      <th>Date</th>\n",
       "      <th></th>\n",
       "      <th></th>\n",
       "    </tr>\n",
       "  </thead>\n",
       "  <tbody>\n",
       "    <tr>\n",
       "      <th>2022-04-07</th>\n",
       "      <td>118.914849</td>\n",
       "      <td>3238.589493</td>\n",
       "    </tr>\n",
       "    <tr>\n",
       "      <th>2022-04-08</th>\n",
       "      <td>109.755500</td>\n",
       "      <td>3197.027500</td>\n",
       "    </tr>\n",
       "    <tr>\n",
       "      <th>2022-04-09</th>\n",
       "      <td>113.130907</td>\n",
       "      <td>3266.452679</td>\n",
       "    </tr>\n",
       "    <tr>\n",
       "      <th>2022-04-10</th>\n",
       "      <td>112.989397</td>\n",
       "      <td>3268.050935</td>\n",
       "    </tr>\n",
       "    <tr>\n",
       "      <th>2022-04-11</th>\n",
       "      <td>99.657668</td>\n",
       "      <td>2986.513994</td>\n",
       "    </tr>\n",
       "  </tbody>\n",
       "</table>\n",
       "</div>"
      ],
      "text/plain": [
       "            Solana Closing Price  Ethereum Closing Price\n",
       "Date                                                    \n",
       "2022-04-07            118.914849             3238.589493\n",
       "2022-04-08            109.755500             3197.027500\n",
       "2022-04-09            113.130907             3266.452679\n",
       "2022-04-10            112.989397             3268.050935\n",
       "2022-04-11             99.657668             2986.513994"
      ]
     },
     "execution_count": 142,
     "metadata": {},
     "output_type": "execute_result"
    }
   ],
   "source": [
    "combined_data = combined_data.rename(columns={\n",
    "    \"SOL Close\": \"Solana Closing Price\",\n",
    "    \"Eth Close\": \"Ethereum Closing Price\"\n",
    "})\n",
    "combined_data.head()"
   ]
  },
  {
   "cell_type": "code",
   "execution_count": 143,
   "id": "f2035a08-486b-4d91-a6d9-fb0efd642c52",
   "metadata": {},
   "outputs": [
    {
     "data": {
      "text/plain": [
       "<AxesSubplot:xlabel='Date'>"
      ]
     },
     "execution_count": 143,
     "metadata": {},
     "output_type": "execute_result"
    },
    {
     "data": {
      "image/png": "[encoded data removed]",
      "text/plain": [
       "<Figure size 640x480 with 1 Axes>"
      ]
     },
     "metadata": {},
     "output_type": "display_data"
    }
   ],
   "source": [
    "combined_data.plot()"
   ]
  },
  {
   "cell_type": "code",
   "execution_count": 144,
   "id": "22e79e23-de27-4d74-bea5-bb7eba2db4e5",
   "metadata": {},
   "outputs": [
    {
     "data": {
      "text/plain": [
       "<AxesSubplot:title={'center':'Solana Risk'}>"
      ]
     },
     "execution_count": 144,
     "metadata": {},
     "output_type": "execute_result"
    },
    {
     "data": {
      "image/png": "[encoded data removed]",
      "text/plain": [
       "<Figure size 640x480 with 1 Axes>"
      ]
     },
     "metadata": {},
     "output_type": "display_data"
    }
   ],
   "source": [
    "sol_volatility = solana_df.std() * np.sqrt(252)\n",
    "sol_volatility.sort_values(inplace=True)\n",
    "sol_volatility.plot.box(title='Solana Risk')"
   ]
  },
  {
   "cell_type": "code",
   "execution_count": 145,
   "id": "47220abf-7dc5-46ff-8da5-7bbfd83215c1",
   "metadata": {},
   "outputs": [
    {
     "data": {
      "text/plain": [
       "<AxesSubplot:title={'center':'Ethereum Risk'}>"
      ]
     },
     "execution_count": 145,
     "metadata": {},
     "output_type": "execute_result"
    },
    {
     "data": {
      "image/png": "[encoded data removed]",
      "text/plain": [
       "<Figure size 640x480 with 1 Axes>"
      ]
     },
     "metadata": {},
     "output_type": "display_data"
    }
   ],
   "source": [
    "eth_volatility = ethereum_df.std() * np.sqrt(252)\n",
    "eth_volatility.sort_values(inplace=True)\n",
    "eth_volatility.plot.box(title='Ethereum Risk')"
   ]
  },
  {
   "cell_type": "code",
   "execution_count": 146,
   "id": "a42aa7f0-f2d4-40ac-a7a0-1928de3352c7",
   "metadata": {},
   "outputs": [
    {
     "data": {
      "text/plain": [
       "Solana Closing Price       22.503555\n",
       "Ethereum Closing Price    483.424818\n",
       "dtype: float64"
      ]
     },
     "execution_count": 146,
     "metadata": {},
     "output_type": "execute_result"
    }
   ],
   "source": [
    "portfolio_std = combined_data.std()\n",
    "portfolio_std"
   ]
  },
  {
   "cell_type": "code",
   "execution_count": 147,
   "id": "4ca43b88-47f1-4ed9-9324-621fcae0c383",
   "metadata": {},
   "outputs": [
    {
     "data": {
      "text/plain": [
       "<AxesSubplot:>"
      ]
     },
     "execution_count": 147,
     "metadata": {},
     "output_type": "execute_result"
    },
    {
     "data": {
      "image/png": "[encoded data removed]",
      "text/plain": [
       "<Figure size 1500x1000 with 1 Axes>"
      ]
     },
     "metadata": {},
     "output_type": "display_data"
    }
   ],
   "source": [
    "combined_data.plot.box(figsize = (15, 10))"
   ]
  },
  {
   "cell_type": "code",
   "execution_count": 148,
   "id": "275872d2-d7f4-4d96-bcb7-6b4c94852bf8",
   "metadata": {},
   "outputs": [
    {
     "data": {
      "text/plain": [
       "Solana Closing Price       22.503555\n",
       "Ethereum Closing Price    483.424818\n",
       "dtype: float64"
      ]
     },
     "execution_count": 148,
     "metadata": {},
     "output_type": "execute_result"
    }
   ],
   "source": [
    "crypto_std = combined_data.std()\n",
    "crypto_std"
   ]
  },
  {
   "cell_type": "code",
   "execution_count": 149,
   "id": "5ac3120a-6437-44a9-90e9-1e62db46b26c",
   "metadata": {},
   "outputs": [
    {
     "data": {
      "text/plain": [
       "Solana Closing Price       357.232855\n",
       "Ethereum Closing Price    7674.131074\n",
       "dtype: float64"
      ]
     },
     "execution_count": 149,
     "metadata": {},
     "output_type": "execute_result"
    }
   ],
   "source": [
    "crypto_std * np.sqrt(252)"
   ]
  },
  {
   "cell_type": "code",
   "execution_count": 158,
   "id": "ea5e038c-91cf-4f33-899d-7a58bb2a5409",
   "metadata": {},
   "outputs": [
    {
     "data": {
      "text/html": [
       "<div>\n",
       "<style scoped>\n",
       "    .dataframe tbody tr th:only-of-type {\n",
       "        vertical-align: middle;\n",
       "    }\n",
       "\n",
       "    .dataframe tbody tr th {\n",
       "        vertical-align: top;\n",
       "    }\n",
       "\n",
       "    .dataframe thead th {\n",
       "        text-align: right;\n",
       "    }\n",
       "</style>\n",
       "<table border=\"1\" class=\"dataframe\">\n",
       "  <thead>\n",
       "    <tr style=\"text-align: right;\">\n",
       "      <th></th>\n",
       "      <th>Solana Closing Price</th>\n",
       "      <th>Ethereum Closing Price</th>\n",
       "    </tr>\n",
       "    <tr>\n",
       "      <th>Date</th>\n",
       "      <th></th>\n",
       "      <th></th>\n",
       "    </tr>\n",
       "  </thead>\n",
       "  <tbody>\n",
       "    <tr>\n",
       "      <th>2023-04-03</th>\n",
       "      <td>1.843732</td>\n",
       "      <td>99.563435</td>\n",
       "    </tr>\n",
       "    <tr>\n",
       "      <th>2023-04-04</th>\n",
       "      <td>1.806454</td>\n",
       "      <td>103.120131</td>\n",
       "    </tr>\n",
       "    <tr>\n",
       "      <th>2023-04-05</th>\n",
       "      <td>1.772610</td>\n",
       "      <td>107.778343</td>\n",
       "    </tr>\n",
       "    <tr>\n",
       "      <th>2023-04-06</th>\n",
       "      <td>1.757653</td>\n",
       "      <td>110.774733</td>\n",
       "    </tr>\n",
       "    <tr>\n",
       "      <th>2023-04-07</th>\n",
       "      <td>1.753405</td>\n",
       "      <td>113.270785</td>\n",
       "    </tr>\n",
       "  </tbody>\n",
       "</table>\n",
       "</div>"
      ],
      "text/plain": [
       "            Solana Closing Price  Ethereum Closing Price\n",
       "Date                                                    \n",
       "2023-04-03              1.843732               99.563435\n",
       "2023-04-04              1.806454              103.120131\n",
       "2023-04-05              1.772610              107.778343\n",
       "2023-04-06              1.757653              110.774733\n",
       "2023-04-07              1.753405              113.270785"
      ]
     },
     "execution_count": 158,
     "metadata": {},
     "output_type": "execute_result"
    }
   ],
   "source": [
    "rolling_crypto = combined_data.rolling(window=60).std()\n",
    "rolling_crypto.tail()"
   ]
  },
  {
   "cell_type": "code",
   "execution_count": 154,
   "id": "8fbf5e26-f4d7-4b9b-baf1-edcf3f4d545b",
   "metadata": {},
   "outputs": [
    {
     "data": {
      "text/html": [
       "<style type=\"text/css\">\n",
       "#T_da940_row0_col0, #T_da940_row1_col1 {\n",
       "  background-color: #ffff66;\n",
       "  color: #000000;\n",
       "}\n",
       "#T_da940_row0_col1, #T_da940_row1_col0 {\n",
       "  background-color: #008066;\n",
       "  color: #f1f1f1;\n",
       "}\n",
       "</style>\n",
       "<table id=\"T_da940_\">\n",
       "  <thead>\n",
       "    <tr>\n",
       "      <th class=\"blank level0\" >&nbsp;</th>\n",
       "      <th class=\"col_heading level0 col0\" >Solana Closing Price</th>\n",
       "      <th class=\"col_heading level0 col1\" >Ethereum Closing Price</th>\n",
       "    </tr>\n",
       "  </thead>\n",
       "  <tbody>\n",
       "    <tr>\n",
       "      <th id=\"T_da940_level0_row0\" class=\"row_heading level0 row0\" >Solana Closing Price</th>\n",
       "      <td id=\"T_da940_row0_col0\" class=\"data row0 col0\" >1.000000</td>\n",
       "      <td id=\"T_da940_row0_col1\" class=\"data row0 col1\" >0.881721</td>\n",
       "    </tr>\n",
       "    <tr>\n",
       "      <th id=\"T_da940_level0_row1\" class=\"row_heading level0 row1\" >Ethereum Closing Price</th>\n",
       "      <td id=\"T_da940_row1_col0\" class=\"data row1 col0\" >0.881721</td>\n",
       "      <td id=\"T_da940_row1_col1\" class=\"data row1 col1\" >1.000000</td>\n",
       "    </tr>\n",
       "  </tbody>\n",
       "</table>\n"
      ],
      "text/plain": [
       "<pandas.io.formats.style.Styler at 0x1e121927048>"
      ]
     },
     "execution_count": 154,
     "metadata": {},
     "output_type": "execute_result"
    }
   ],
   "source": [
    "crypto_corr = combined_data.corr()\n",
    "crypto_corr.style.background_gradient(cmap=\"summer\")"
   ]
  },
  {
   "cell_type": "code",
   "execution_count": 156,
   "id": "830eaf17-79f3-4028-a999-83d0583c3111",
   "metadata": {},
   "outputs": [
    {
     "data": {
      "text/html": [
       "<div>\n",
       "<style scoped>\n",
       "    .dataframe tbody tr th:only-of-type {\n",
       "        vertical-align: middle;\n",
       "    }\n",
       "\n",
       "    .dataframe tbody tr th {\n",
       "        vertical-align: top;\n",
       "    }\n",
       "\n",
       "    .dataframe thead th {\n",
       "        text-align: right;\n",
       "    }\n",
       "</style>\n",
       "<table border=\"1\" class=\"dataframe\">\n",
       "  <thead>\n",
       "    <tr style=\"text-align: right;\">\n",
       "      <th></th>\n",
       "      <th>Solana Closing Price</th>\n",
       "      <th>Ethereum Closing Price</th>\n",
       "    </tr>\n",
       "    <tr>\n",
       "      <th>Date</th>\n",
       "      <th></th>\n",
       "      <th></th>\n",
       "    </tr>\n",
       "  </thead>\n",
       "  <tbody>\n",
       "    <tr>\n",
       "      <th>2023-04-03</th>\n",
       "      <td>299.517235</td>\n",
       "      <td>260.834148</td>\n",
       "    </tr>\n",
       "    <tr>\n",
       "      <th>2023-04-04</th>\n",
       "      <td>305.698171</td>\n",
       "      <td>251.837771</td>\n",
       "    </tr>\n",
       "    <tr>\n",
       "      <th>2023-04-05</th>\n",
       "      <td>311.534797</td>\n",
       "      <td>240.953266</td>\n",
       "    </tr>\n",
       "    <tr>\n",
       "      <th>2023-04-06</th>\n",
       "      <td>314.185831</td>\n",
       "      <td>234.435625</td>\n",
       "    </tr>\n",
       "    <tr>\n",
       "      <th>2023-04-07</th>\n",
       "      <td>314.947014</td>\n",
       "      <td>229.269567</td>\n",
       "    </tr>\n",
       "  </tbody>\n",
       "</table>\n",
       "</div>"
      ],
      "text/plain": [
       "            Solana Closing Price  Ethereum Closing Price\n",
       "Date                                                    \n",
       "2023-04-03            299.517235              260.834148\n",
       "2023-04-04            305.698171              251.837771\n",
       "2023-04-05            311.534797              240.953266\n",
       "2023-04-06            314.185831              234.435625\n",
       "2023-04-07            314.947014              229.269567"
      ]
     },
     "execution_count": 156,
     "metadata": {},
     "output_type": "execute_result"
    }
   ],
   "source": [
    "sharpe=(combined_data.mean()*252) / (rolling_crypto * np.sqrt(252)) \n",
    "sharpe.tail()"
   ]
  },
  {
   "cell_type": "code",
   "execution_count": 159,
   "id": "3602a5ef-3b3e-453b-9c36-a2cba22888ca",
   "metadata": {},
   "outputs": [
    {
     "data": {
      "text/plain": [
       "<AxesSubplot:xlabel='Date'>"
      ]
     },
     "execution_count": 159,
     "metadata": {},
     "output_type": "execute_result"
    },
    {
     "data": {
      "image/png": "[encoded data removed]",
      "text/plain": [
       "<Figure size 640x480 with 1 Axes>"
      ]
     },
     "metadata": {},
     "output_type": "display_data"
    }
   ],
   "source": [
    "sharpe.plot.bar()"
   ]
  },
  {
   "cell_type": "code",
   "execution_count": null,
   "id": "7266b40e-18fe-49e6-af25-48b1f4c8be50",
   "metadata": {},
   "outputs": [],
   "source": []
  }
 ],
 "metadata": {
  "kernelspec": {
   "display_name": "Python 3 (ipykernel)",
   "language": "python",
   "name": "python3"
  },
  "language_info": {
   "codemirror_mode": {
    "name": "ipython",
    "version": 3
   },
   "file_extension": ".py",
   "mimetype": "text/x-python",
   "name": "python",
   "nbconvert_exporter": "python",
   "pygments_lexer": "ipython3",
   "version": "3.7.13"
  }
 },
 "nbformat": 4,
 "nbformat_minor": 5
}
