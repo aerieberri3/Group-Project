{
 "cells": [
  {
   "cell_type": "code",
   "execution_count": 1,
   "id": "3acf14fb-772e-425b-87fb-78e35a37f109",
   "metadata": {},
   "outputs": [],
   "source": [
    "#Initial imports\n",
    "import pandas as pd\n",
    "import numpy as np\n",
    "import yfinance as yf\n",
    "from dotenv import load_dotenv\n",
    "import alpaca_trade_api as tradeapi\n",
    "import os\n",
    "\n",
    "%matplotlib inline"
   ]
  },
  {
   "cell_type": "code",
   "execution_count": 2,
   "id": "f5c752bd-3734-458e-aa7a-4b3189310a09",
   "metadata": {},
   "outputs": [
    {
     "data": {
      "text/plain": [
       "True"
      ]
     },
     "execution_count": 2,
     "metadata": {},
     "output_type": "execute_result"
    }
   ],
   "source": [
    "#load .env environment variables\n",
    "load_dotenv()"
   ]
  },
  {
   "cell_type": "code",
   "execution_count": 3,
   "id": "399e60eb-c9b6-4fc1-bcbd-14fe66319403",
   "metadata": {},
   "outputs": [],
   "source": [
    "alpaca_api_key = os.getenv(\"ALPACA_API_KEY\")\n",
    "alpaca_secret_key = os.getenv(\"ALPACA_SECRET_KEY\")"
   ]
  },
  {
   "cell_type": "code",
   "execution_count": 4,
   "id": "5bf46545-bcf1-4bdb-a102-01fb0da746f1",
   "metadata": {},
   "outputs": [
    {
     "name": "stdout",
     "output_type": "stream",
     "text": [
      "Alpaca Key type: <class 'str'>\n",
      "Alpaca Secret Key type: <class 'str'>\n"
     ]
    }
   ],
   "source": [
    "print(f\"Alpaca Key type: {type(alpaca_api_key)}\")\n",
    "print(f\"Alpaca Secret Key type: {type(alpaca_secret_key)}\")"
   ]
  },
  {
   "cell_type": "code",
   "execution_count": 5,
   "id": "cd74fb83-27b8-4bd3-8e56-a1c9e753238b",
   "metadata": {},
   "outputs": [],
   "source": [
    "alpaca = tradeapi.REST(\n",
    "    alpaca_api_key,\n",
    "    alpaca_secret_key,\n",
    "    api_version=\"v2\")"
   ]
  },
  {
   "cell_type": "code",
   "execution_count": 6,
   "id": "3a1cf35e-2d56-4d96-80c7-98d1a29c2b90",
   "metadata": {},
   "outputs": [],
   "source": [
    "today = pd.Timestamp(\"2023-04-11\", tz=\"America/New_York\").isoformat()"
   ]
  },
  {
   "cell_type": "code",
   "execution_count": 11,
   "id": "c6207fa9-8f02-45c5-8cc2-2f42ba6368ee",
   "metadata": {},
   "outputs": [],
   "source": [
    "tickers = [\"AAPL\"]"
   ]
  },
  {
   "cell_type": "code",
   "execution_count": 12,
   "id": "71fe45c6-aa69-4624-b6df-81841eb01e93",
   "metadata": {},
   "outputs": [],
   "source": [
    "timeframe = \"1Day\""
   ]
  },
  {
   "cell_type": "code",
   "execution_count": 13,
   "id": "d3710841-6817-4fde-86a7-763c28abf98b",
   "metadata": {},
   "outputs": [
    {
     "data": {
      "text/html": [
       "<div>\n",
       "<style scoped>\n",
       "    .dataframe tbody tr th:only-of-type {\n",
       "        vertical-align: middle;\n",
       "    }\n",
       "\n",
       "    .dataframe tbody tr th {\n",
       "        vertical-align: top;\n",
       "    }\n",
       "\n",
       "    .dataframe thead th {\n",
       "        text-align: right;\n",
       "    }\n",
       "</style>\n",
       "<table border=\"1\" class=\"dataframe\">\n",
       "  <thead>\n",
       "    <tr style=\"text-align: right;\">\n",
       "      <th></th>\n",
       "      <th>open</th>\n",
       "      <th>high</th>\n",
       "      <th>low</th>\n",
       "      <th>close</th>\n",
       "      <th>volume</th>\n",
       "      <th>trade_count</th>\n",
       "      <th>vwap</th>\n",
       "      <th>symbol</th>\n",
       "    </tr>\n",
       "    <tr>\n",
       "      <th>timestamp</th>\n",
       "      <th></th>\n",
       "      <th></th>\n",
       "      <th></th>\n",
       "      <th></th>\n",
       "      <th></th>\n",
       "      <th></th>\n",
       "      <th></th>\n",
       "      <th></th>\n",
       "    </tr>\n",
       "  </thead>\n",
       "  <tbody>\n",
       "    <tr>\n",
       "      <th>2023-04-11 04:00:00+00:00</th>\n",
       "      <td>162.35</td>\n",
       "      <td>162.36</td>\n",
       "      <td>160.51</td>\n",
       "      <td>160.8</td>\n",
       "      <td>47793761</td>\n",
       "      <td>490480</td>\n",
       "      <td>161.128148</td>\n",
       "      <td>AAPL</td>\n",
       "    </tr>\n",
       "  </tbody>\n",
       "</table>\n",
       "</div>"
      ],
      "text/plain": [
       "                             open    high     low  close    volume  \\\n",
       "timestamp                                                            \n",
       "2023-04-11 04:00:00+00:00  162.35  162.36  160.51  160.8  47793761   \n",
       "\n",
       "                           trade_count        vwap symbol  \n",
       "timestamp                                                  \n",
       "2023-04-11 04:00:00+00:00       490480  161.128148   AAPL  "
      ]
     },
     "execution_count": 13,
     "metadata": {},
     "output_type": "execute_result"
    }
   ],
   "source": [
    "#Get current closing prices for APPLE\n",
    "df_portfolio = alpaca.get_bars(\n",
    "    tickers,\n",
    "    timeframe,\n",
    "    start = today,\n",
    "    end = today\n",
    "  \n",
    ").df\n",
    "\n",
    "# Display sample data\n",
    "df_portfolio"
   ]
  },
  {
   "cell_type": "code",
   "execution_count": 10,
   "id": "a5c80f73-61f6-4187-93bc-71ccd46b19a6",
   "metadata": {},
   "outputs": [
    {
     "data": {
      "text/html": [
       "<div>\n",
       "<style scoped>\n",
       "    .dataframe tbody tr th:only-of-type {\n",
       "        vertical-align: middle;\n",
       "    }\n",
       "\n",
       "    .dataframe tbody tr th {\n",
       "        vertical-align: top;\n",
       "    }\n",
       "\n",
       "    .dataframe thead th {\n",
       "        text-align: right;\n",
       "    }\n",
       "</style>\n",
       "<table border=\"1\" class=\"dataframe\">\n",
       "  <thead>\n",
       "    <tr style=\"text-align: right;\">\n",
       "      <th></th>\n",
       "    </tr>\n",
       "  </thead>\n",
       "  <tbody>\n",
       "  </tbody>\n",
       "</table>\n",
       "</div>"
      ],
      "text/plain": [
       "Empty DataFrame\n",
       "Columns: []\n",
       "Index: []"
      ]
     },
     "execution_count": 10,
     "metadata": {},
     "output_type": "execute_result"
    }
   ],
   "source": [
    "df_portfolio.head()\n"
   ]
  },
  {
   "cell_type": "code",
   "execution_count": 24,
   "id": "07db3210-7437-4f82-a9b8-7a7f49d16e1a",
   "metadata": {},
   "outputs": [
    {
     "name": "stdout",
     "output_type": "stream",
     "text": [
      "[*********************100%***********************]  2 of 2 completed\n"
     ]
    }
   ],
   "source": [
    "data = yf.download([\"SPY\", \"AAPL\"], start=\"2022-01-01\", end=\"2022-12-31\")"
   ]
  },
  {
   "cell_type": "code",
   "execution_count": null,
   "id": "038ac229-dd5a-4e86-b876-7003314dc5c0",
   "metadata": {},
   "outputs": [],
   "source": []
  },
  {
   "cell_type": "code",
   "execution_count": null,
   "id": "dff3f464-8ae6-4059-a0f5-3b444fe125d9",
   "metadata": {},
   "outputs": [],
   "source": []
  },
  {
   "cell_type": "code",
   "execution_count": null,
   "id": "ad3aa02a-1c9e-4731-a028-808c457327d8",
   "metadata": {},
   "outputs": [],
   "source": [
    "#Calculate daily average returns\n",
    "closes = data['Adj Close']\n",
    "spy_returns = closes.SPY.pct_change().dropna()\n",
    "aapl_returns = closes.AAPL.pct_change().dropna()"
   ]
  },
  {
   "cell_type": "code",
   "execution_count": null,
   "id": "a5bd42ea-5efa-4889-8363-755a12116b81",
   "metadata": {},
   "outputs": [],
   "source": [
    "aapl_returns #This is a dataframe that shows the change of a stock price as a percent for 252 days in 2022 "
   ]
  },
  {
   "cell_type": "code",
   "execution_count": null,
   "id": "4bcb43aa-a43d-4acd-ad51-7393b99b18e4",
   "metadata": {},
   "outputs": [],
   "source": [
    "closes #This dataframe shows the closing price of Apple stocks compared to the S&P500"
   ]
  },
  {
   "cell_type": "code",
   "execution_count": null,
   "id": "c2ab5db4-1e1e-4748-b8aa-05440d96640c",
   "metadata": {},
   "outputs": [],
   "source": []
  },
  {
   "cell_type": "code",
   "execution_count": null,
   "id": "0f46ab1a-ef7b-45ca-bc64-fd7c88aec52b",
   "metadata": {},
   "outputs": [],
   "source": [
    "#sortino_ratio=(averaged_realized_returns-required_rate_of_return)/target_downside_deviation"
   ]
  },
  {
   "cell_type": "code",
   "execution_count": null,
   "id": "7c681c40-d498-4b45-a1bc-994fc5e0585f",
   "metadata": {},
   "outputs": [],
   "source": [
    "\n",
    "### Calculate Standard Deviations\n",
    "daily_std_all_portfolios_df= all_portfolios_df.std()\n",
    "\n",
    "Calculate the Annualized Standard Deviation\n",
    "annualized_std_all_portfolios= all_portfolios_cumulative_ret.std() * np.sqrt(252)\n",
    "annualized_std_all_portfolios\n",
    "\n"
   ]
  },
  {
   "cell_type": "code",
   "execution_count": null,
   "id": "8571620e-591d-45d1-87d0-a78009737013",
   "metadata": {},
   "outputs": [],
   "source": [
    "annualized_sharpe_ratios = (all_portfolios_df.mean() * 252 / (all_portfolios_df.std() * np.sqrt(252))\n",
    "                            \n",
    "       create s dataframe with just the negative values - set up a condition that says that if the value of the column is less than equal to 0 then have it be zero.                     "
   ]
  },
  {
   "cell_type": "code",
   "execution_count": null,
   "id": "e37d9c99-4776-4c16-8d85-ce6dd6d22df4",
   "metadata": {},
   "outputs": [],
   "source": [
    "def sortino_ratio(series, N,rf):\n",
    "    mean = series.mean() * N -rf\n",
    "    std_neg = series[series<0].std()*np.sqrt(N)\n",
    "    return mean/std_neg\n",
    "\n",
    "\n",
    "sortinos = df.apply(sortino_ratio, args=(N,rf,), axis=0 )\n",
    "sortinos.plot.bar()\n",
    "plt.ylabel('Sortino Ratio')"
   ]
  }
 ],
 "metadata": {
  "kernelspec": {
   "display_name": "Python 3 (ipykernel)",
   "language": "python",
   "name": "python3"
  },
  "language_info": {
   "codemirror_mode": {
    "name": "ipython",
    "version": 3
   },
   "file_extension": ".py",
   "mimetype": "text/x-python",
   "name": "python",
   "nbconvert_exporter": "python",
   "pygments_lexer": "ipython3",
   "version": "3.9.13"
  }
 },
 "nbformat": 4,
 "nbformat_minor": 5
}
